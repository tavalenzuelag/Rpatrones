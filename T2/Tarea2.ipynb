{
  "nbformat": 4,
  "nbformat_minor": 0,
  "metadata": {
    "kernelspec": {
      "display_name": "Python 3",
      "language": "python",
      "name": "python3"
    },
    "language_info": {
      "codemirror_mode": {
        "name": "ipython",
        "version": 3
      },
      "file_extension": ".py",
      "mimetype": "text/x-python",
      "name": "python",
      "nbconvert_exporter": "python",
      "pygments_lexer": "ipython3",
      "version": "3.8.5"
    },
    "colab": {
      "name": "15205096.ipynb",
      "provenance": [],
      "collapsed_sections": []
    },
    "widgets": {
      "application/vnd.jupyter.widget-state+json": {
        "2ecdf7a15bc14f46b60ebb799c67849b": {
          "model_module": "@jupyter-widgets/controls",
          "model_name": "HBoxModel",
          "state": {
            "_view_name": "HBoxView",
            "_dom_classes": [],
            "_model_name": "HBoxModel",
            "_view_module": "@jupyter-widgets/controls",
            "_model_module_version": "1.5.0",
            "_view_count": null,
            "_view_module_version": "1.5.0",
            "box_style": "",
            "layout": "IPY_MODEL_f3ff113e29c74ec3b514cb13e6708227",
            "_model_module": "@jupyter-widgets/controls",
            "children": [
              "IPY_MODEL_a6da1abf26a941d88c2f30de2fdbf0bc",
              "IPY_MODEL_da9c3186990548f2a61c34d40b9a453b"
            ]
          }
        },
        "f3ff113e29c74ec3b514cb13e6708227": {
          "model_module": "@jupyter-widgets/base",
          "model_name": "LayoutModel",
          "state": {
            "_view_name": "LayoutView",
            "grid_template_rows": null,
            "right": null,
            "justify_content": null,
            "_view_module": "@jupyter-widgets/base",
            "overflow": null,
            "_model_module_version": "1.2.0",
            "_view_count": null,
            "flex_flow": null,
            "width": null,
            "min_width": null,
            "border": null,
            "align_items": null,
            "bottom": null,
            "_model_module": "@jupyter-widgets/base",
            "top": null,
            "grid_column": null,
            "overflow_y": null,
            "overflow_x": null,
            "grid_auto_flow": null,
            "grid_area": null,
            "grid_template_columns": null,
            "flex": null,
            "_model_name": "LayoutModel",
            "justify_items": null,
            "grid_row": null,
            "max_height": null,
            "align_content": null,
            "visibility": null,
            "align_self": null,
            "height": null,
            "min_height": null,
            "padding": null,
            "grid_auto_rows": null,
            "grid_gap": null,
            "max_width": null,
            "order": null,
            "_view_module_version": "1.2.0",
            "grid_template_areas": null,
            "object_position": null,
            "object_fit": null,
            "grid_auto_columns": null,
            "margin": null,
            "display": null,
            "left": null
          }
        },
        "a6da1abf26a941d88c2f30de2fdbf0bc": {
          "model_module": "@jupyter-widgets/controls",
          "model_name": "FloatProgressModel",
          "state": {
            "_view_name": "ProgressView",
            "style": "IPY_MODEL_59a0f50224034b5eabd1b4056b44a07d",
            "_dom_classes": [],
            "description": "100%",
            "_model_name": "FloatProgressModel",
            "bar_style": "success",
            "max": 2,
            "_view_module": "@jupyter-widgets/controls",
            "_model_module_version": "1.5.0",
            "value": 2,
            "_view_count": null,
            "_view_module_version": "1.5.0",
            "orientation": "horizontal",
            "min": 0,
            "description_tooltip": null,
            "_model_module": "@jupyter-widgets/controls",
            "layout": "IPY_MODEL_2b5ee9140f5b42bab55babbe947c2eaa"
          }
        },
        "da9c3186990548f2a61c34d40b9a453b": {
          "model_module": "@jupyter-widgets/controls",
          "model_name": "HTMLModel",
          "state": {
            "_view_name": "HTMLView",
            "style": "IPY_MODEL_9f637f6bca08411c8460e1059c478d8a",
            "_dom_classes": [],
            "description": "",
            "_model_name": "HTMLModel",
            "placeholder": "​",
            "_view_module": "@jupyter-widgets/controls",
            "_model_module_version": "1.5.0",
            "value": " 2/2 [02:40&lt;00:00, 80.31s/it]",
            "_view_count": null,
            "_view_module_version": "1.5.0",
            "description_tooltip": null,
            "_model_module": "@jupyter-widgets/controls",
            "layout": "IPY_MODEL_f14324255cca40a69610d045b6e18168"
          }
        },
        "59a0f50224034b5eabd1b4056b44a07d": {
          "model_module": "@jupyter-widgets/controls",
          "model_name": "ProgressStyleModel",
          "state": {
            "_view_name": "StyleView",
            "_model_name": "ProgressStyleModel",
            "description_width": "initial",
            "_view_module": "@jupyter-widgets/base",
            "_model_module_version": "1.5.0",
            "_view_count": null,
            "_view_module_version": "1.2.0",
            "bar_color": null,
            "_model_module": "@jupyter-widgets/controls"
          }
        },
        "2b5ee9140f5b42bab55babbe947c2eaa": {
          "model_module": "@jupyter-widgets/base",
          "model_name": "LayoutModel",
          "state": {
            "_view_name": "LayoutView",
            "grid_template_rows": null,
            "right": null,
            "justify_content": null,
            "_view_module": "@jupyter-widgets/base",
            "overflow": null,
            "_model_module_version": "1.2.0",
            "_view_count": null,
            "flex_flow": null,
            "width": null,
            "min_width": null,
            "border": null,
            "align_items": null,
            "bottom": null,
            "_model_module": "@jupyter-widgets/base",
            "top": null,
            "grid_column": null,
            "overflow_y": null,
            "overflow_x": null,
            "grid_auto_flow": null,
            "grid_area": null,
            "grid_template_columns": null,
            "flex": null,
            "_model_name": "LayoutModel",
            "justify_items": null,
            "grid_row": null,
            "max_height": null,
            "align_content": null,
            "visibility": null,
            "align_self": null,
            "height": null,
            "min_height": null,
            "padding": null,
            "grid_auto_rows": null,
            "grid_gap": null,
            "max_width": null,
            "order": null,
            "_view_module_version": "1.2.0",
            "grid_template_areas": null,
            "object_position": null,
            "object_fit": null,
            "grid_auto_columns": null,
            "margin": null,
            "display": null,
            "left": null
          }
        },
        "9f637f6bca08411c8460e1059c478d8a": {
          "model_module": "@jupyter-widgets/controls",
          "model_name": "DescriptionStyleModel",
          "state": {
            "_view_name": "StyleView",
            "_model_name": "DescriptionStyleModel",
            "description_width": "",
            "_view_module": "@jupyter-widgets/base",
            "_model_module_version": "1.5.0",
            "_view_count": null,
            "_view_module_version": "1.2.0",
            "_model_module": "@jupyter-widgets/controls"
          }
        },
        "f14324255cca40a69610d045b6e18168": {
          "model_module": "@jupyter-widgets/base",
          "model_name": "LayoutModel",
          "state": {
            "_view_name": "LayoutView",
            "grid_template_rows": null,
            "right": null,
            "justify_content": null,
            "_view_module": "@jupyter-widgets/base",
            "overflow": null,
            "_model_module_version": "1.2.0",
            "_view_count": null,
            "flex_flow": null,
            "width": null,
            "min_width": null,
            "border": null,
            "align_items": null,
            "bottom": null,
            "_model_module": "@jupyter-widgets/base",
            "top": null,
            "grid_column": null,
            "overflow_y": null,
            "overflow_x": null,
            "grid_auto_flow": null,
            "grid_area": null,
            "grid_template_columns": null,
            "flex": null,
            "_model_name": "LayoutModel",
            "justify_items": null,
            "grid_row": null,
            "max_height": null,
            "align_content": null,
            "visibility": null,
            "align_self": null,
            "height": null,
            "min_height": null,
            "padding": null,
            "grid_auto_rows": null,
            "grid_gap": null,
            "max_width": null,
            "order": null,
            "_view_module_version": "1.2.0",
            "grid_template_areas": null,
            "object_position": null,
            "object_fit": null,
            "grid_auto_columns": null,
            "margin": null,
            "display": null,
            "left": null
          }
        },
        "ee18aa3f19404955968b4fcc1fd92fd3": {
          "model_module": "@jupyter-widgets/controls",
          "model_name": "HBoxModel",
          "state": {
            "_view_name": "HBoxView",
            "_dom_classes": [],
            "_model_name": "HBoxModel",
            "_view_module": "@jupyter-widgets/controls",
            "_model_module_version": "1.5.0",
            "_view_count": null,
            "_view_module_version": "1.5.0",
            "box_style": "",
            "layout": "IPY_MODEL_cdeffa1b86ed407aae18dd6b9fb2cbb1",
            "_model_module": "@jupyter-widgets/controls",
            "children": [
              "IPY_MODEL_9948d65948ee4d9495d31c9e989aba07",
              "IPY_MODEL_a20e5bde3ea743d7af13b32a27b5d9ff"
            ]
          }
        },
        "cdeffa1b86ed407aae18dd6b9fb2cbb1": {
          "model_module": "@jupyter-widgets/base",
          "model_name": "LayoutModel",
          "state": {
            "_view_name": "LayoutView",
            "grid_template_rows": null,
            "right": null,
            "justify_content": null,
            "_view_module": "@jupyter-widgets/base",
            "overflow": null,
            "_model_module_version": "1.2.0",
            "_view_count": null,
            "flex_flow": null,
            "width": null,
            "min_width": null,
            "border": null,
            "align_items": null,
            "bottom": null,
            "_model_module": "@jupyter-widgets/base",
            "top": null,
            "grid_column": null,
            "overflow_y": null,
            "overflow_x": null,
            "grid_auto_flow": null,
            "grid_area": null,
            "grid_template_columns": null,
            "flex": null,
            "_model_name": "LayoutModel",
            "justify_items": null,
            "grid_row": null,
            "max_height": null,
            "align_content": null,
            "visibility": null,
            "align_self": null,
            "height": null,
            "min_height": null,
            "padding": null,
            "grid_auto_rows": null,
            "grid_gap": null,
            "max_width": null,
            "order": null,
            "_view_module_version": "1.2.0",
            "grid_template_areas": null,
            "object_position": null,
            "object_fit": null,
            "grid_auto_columns": null,
            "margin": null,
            "display": null,
            "left": null
          }
        },
        "9948d65948ee4d9495d31c9e989aba07": {
          "model_module": "@jupyter-widgets/controls",
          "model_name": "FloatProgressModel",
          "state": {
            "_view_name": "ProgressView",
            "style": "IPY_MODEL_7df3d144fde742e996c4c8058cae0b96",
            "_dom_classes": [],
            "description": "100%",
            "_model_name": "FloatProgressModel",
            "bar_style": "success",
            "max": 2,
            "_view_module": "@jupyter-widgets/controls",
            "_model_module_version": "1.5.0",
            "value": 2,
            "_view_count": null,
            "_view_module_version": "1.5.0",
            "orientation": "horizontal",
            "min": 0,
            "description_tooltip": null,
            "_model_module": "@jupyter-widgets/controls",
            "layout": "IPY_MODEL_7c5d16d577ed486a833d0b94e7dd7fca"
          }
        },
        "a20e5bde3ea743d7af13b32a27b5d9ff": {
          "model_module": "@jupyter-widgets/controls",
          "model_name": "HTMLModel",
          "state": {
            "_view_name": "HTMLView",
            "style": "IPY_MODEL_1f3441bfeac54867b41e5ba3f87f21ab",
            "_dom_classes": [],
            "description": "",
            "_model_name": "HTMLModel",
            "placeholder": "​",
            "_view_module": "@jupyter-widgets/controls",
            "_model_module_version": "1.5.0",
            "value": " 2/2 [00:23&lt;00:00, 11.70s/it]",
            "_view_count": null,
            "_view_module_version": "1.5.0",
            "description_tooltip": null,
            "_model_module": "@jupyter-widgets/controls",
            "layout": "IPY_MODEL_9ee51f9988294a119462e73191ce2586"
          }
        },
        "7df3d144fde742e996c4c8058cae0b96": {
          "model_module": "@jupyter-widgets/controls",
          "model_name": "ProgressStyleModel",
          "state": {
            "_view_name": "StyleView",
            "_model_name": "ProgressStyleModel",
            "description_width": "initial",
            "_view_module": "@jupyter-widgets/base",
            "_model_module_version": "1.5.0",
            "_view_count": null,
            "_view_module_version": "1.2.0",
            "bar_color": null,
            "_model_module": "@jupyter-widgets/controls"
          }
        },
        "7c5d16d577ed486a833d0b94e7dd7fca": {
          "model_module": "@jupyter-widgets/base",
          "model_name": "LayoutModel",
          "state": {
            "_view_name": "LayoutView",
            "grid_template_rows": null,
            "right": null,
            "justify_content": null,
            "_view_module": "@jupyter-widgets/base",
            "overflow": null,
            "_model_module_version": "1.2.0",
            "_view_count": null,
            "flex_flow": null,
            "width": null,
            "min_width": null,
            "border": null,
            "align_items": null,
            "bottom": null,
            "_model_module": "@jupyter-widgets/base",
            "top": null,
            "grid_column": null,
            "overflow_y": null,
            "overflow_x": null,
            "grid_auto_flow": null,
            "grid_area": null,
            "grid_template_columns": null,
            "flex": null,
            "_model_name": "LayoutModel",
            "justify_items": null,
            "grid_row": null,
            "max_height": null,
            "align_content": null,
            "visibility": null,
            "align_self": null,
            "height": null,
            "min_height": null,
            "padding": null,
            "grid_auto_rows": null,
            "grid_gap": null,
            "max_width": null,
            "order": null,
            "_view_module_version": "1.2.0",
            "grid_template_areas": null,
            "object_position": null,
            "object_fit": null,
            "grid_auto_columns": null,
            "margin": null,
            "display": null,
            "left": null
          }
        },
        "1f3441bfeac54867b41e5ba3f87f21ab": {
          "model_module": "@jupyter-widgets/controls",
          "model_name": "DescriptionStyleModel",
          "state": {
            "_view_name": "StyleView",
            "_model_name": "DescriptionStyleModel",
            "description_width": "",
            "_view_module": "@jupyter-widgets/base",
            "_model_module_version": "1.5.0",
            "_view_count": null,
            "_view_module_version": "1.2.0",
            "_model_module": "@jupyter-widgets/controls"
          }
        },
        "9ee51f9988294a119462e73191ce2586": {
          "model_module": "@jupyter-widgets/base",
          "model_name": "LayoutModel",
          "state": {
            "_view_name": "LayoutView",
            "grid_template_rows": null,
            "right": null,
            "justify_content": null,
            "_view_module": "@jupyter-widgets/base",
            "overflow": null,
            "_model_module_version": "1.2.0",
            "_view_count": null,
            "flex_flow": null,
            "width": null,
            "min_width": null,
            "border": null,
            "align_items": null,
            "bottom": null,
            "_model_module": "@jupyter-widgets/base",
            "top": null,
            "grid_column": null,
            "overflow_y": null,
            "overflow_x": null,
            "grid_auto_flow": null,
            "grid_area": null,
            "grid_template_columns": null,
            "flex": null,
            "_model_name": "LayoutModel",
            "justify_items": null,
            "grid_row": null,
            "max_height": null,
            "align_content": null,
            "visibility": null,
            "align_self": null,
            "height": null,
            "min_height": null,
            "padding": null,
            "grid_auto_rows": null,
            "grid_gap": null,
            "max_width": null,
            "order": null,
            "_view_module_version": "1.2.0",
            "grid_template_areas": null,
            "object_position": null,
            "object_fit": null,
            "grid_auto_columns": null,
            "margin": null,
            "display": null,
            "left": null
          }
        },
        "a1d2248289744a15912a6de64c1125e7": {
          "model_module": "@jupyter-widgets/controls",
          "model_name": "HBoxModel",
          "state": {
            "_view_name": "HBoxView",
            "_dom_classes": [],
            "_model_name": "HBoxModel",
            "_view_module": "@jupyter-widgets/controls",
            "_model_module_version": "1.5.0",
            "_view_count": null,
            "_view_module_version": "1.5.0",
            "box_style": "",
            "layout": "IPY_MODEL_f6360249fe9d47368fa3bfb3d32190f6",
            "_model_module": "@jupyter-widgets/controls",
            "children": [
              "IPY_MODEL_109394267e1741d7bcbf67559b857e3a",
              "IPY_MODEL_61f362d22adc4c0e967fb82426aa6730"
            ]
          }
        },
        "f6360249fe9d47368fa3bfb3d32190f6": {
          "model_module": "@jupyter-widgets/base",
          "model_name": "LayoutModel",
          "state": {
            "_view_name": "LayoutView",
            "grid_template_rows": null,
            "right": null,
            "justify_content": null,
            "_view_module": "@jupyter-widgets/base",
            "overflow": null,
            "_model_module_version": "1.2.0",
            "_view_count": null,
            "flex_flow": null,
            "width": null,
            "min_width": null,
            "border": null,
            "align_items": null,
            "bottom": null,
            "_model_module": "@jupyter-widgets/base",
            "top": null,
            "grid_column": null,
            "overflow_y": null,
            "overflow_x": null,
            "grid_auto_flow": null,
            "grid_area": null,
            "grid_template_columns": null,
            "flex": null,
            "_model_name": "LayoutModel",
            "justify_items": null,
            "grid_row": null,
            "max_height": null,
            "align_content": null,
            "visibility": null,
            "align_self": null,
            "height": null,
            "min_height": null,
            "padding": null,
            "grid_auto_rows": null,
            "grid_gap": null,
            "max_width": null,
            "order": null,
            "_view_module_version": "1.2.0",
            "grid_template_areas": null,
            "object_position": null,
            "object_fit": null,
            "grid_auto_columns": null,
            "margin": null,
            "display": null,
            "left": null
          }
        },
        "109394267e1741d7bcbf67559b857e3a": {
          "model_module": "@jupyter-widgets/controls",
          "model_name": "FloatProgressModel",
          "state": {
            "_view_name": "ProgressView",
            "style": "IPY_MODEL_de3a9c6e86e04c65849b263e5557fe1d",
            "_dom_classes": [],
            "description": "100%",
            "_model_name": "FloatProgressModel",
            "bar_style": "success",
            "max": 2,
            "_view_module": "@jupyter-widgets/controls",
            "_model_module_version": "1.5.0",
            "value": 2,
            "_view_count": null,
            "_view_module_version": "1.5.0",
            "orientation": "horizontal",
            "min": 0,
            "description_tooltip": null,
            "_model_module": "@jupyter-widgets/controls",
            "layout": "IPY_MODEL_59bda6e7d9f74990a6bf4826de74cefc"
          }
        },
        "61f362d22adc4c0e967fb82426aa6730": {
          "model_module": "@jupyter-widgets/controls",
          "model_name": "HTMLModel",
          "state": {
            "_view_name": "HTMLView",
            "style": "IPY_MODEL_b6f1f03ad7c847d49795a4cb42037070",
            "_dom_classes": [],
            "description": "",
            "_model_name": "HTMLModel",
            "placeholder": "​",
            "_view_module": "@jupyter-widgets/controls",
            "_model_module_version": "1.5.0",
            "value": " 2/2 [06:00&lt;00:00, 180.38s/it]",
            "_view_count": null,
            "_view_module_version": "1.5.0",
            "description_tooltip": null,
            "_model_module": "@jupyter-widgets/controls",
            "layout": "IPY_MODEL_9f47b0715f794a06824190fa12281ade"
          }
        },
        "de3a9c6e86e04c65849b263e5557fe1d": {
          "model_module": "@jupyter-widgets/controls",
          "model_name": "ProgressStyleModel",
          "state": {
            "_view_name": "StyleView",
            "_model_name": "ProgressStyleModel",
            "description_width": "initial",
            "_view_module": "@jupyter-widgets/base",
            "_model_module_version": "1.5.0",
            "_view_count": null,
            "_view_module_version": "1.2.0",
            "bar_color": null,
            "_model_module": "@jupyter-widgets/controls"
          }
        },
        "59bda6e7d9f74990a6bf4826de74cefc": {
          "model_module": "@jupyter-widgets/base",
          "model_name": "LayoutModel",
          "state": {
            "_view_name": "LayoutView",
            "grid_template_rows": null,
            "right": null,
            "justify_content": null,
            "_view_module": "@jupyter-widgets/base",
            "overflow": null,
            "_model_module_version": "1.2.0",
            "_view_count": null,
            "flex_flow": null,
            "width": null,
            "min_width": null,
            "border": null,
            "align_items": null,
            "bottom": null,
            "_model_module": "@jupyter-widgets/base",
            "top": null,
            "grid_column": null,
            "overflow_y": null,
            "overflow_x": null,
            "grid_auto_flow": null,
            "grid_area": null,
            "grid_template_columns": null,
            "flex": null,
            "_model_name": "LayoutModel",
            "justify_items": null,
            "grid_row": null,
            "max_height": null,
            "align_content": null,
            "visibility": null,
            "align_self": null,
            "height": null,
            "min_height": null,
            "padding": null,
            "grid_auto_rows": null,
            "grid_gap": null,
            "max_width": null,
            "order": null,
            "_view_module_version": "1.2.0",
            "grid_template_areas": null,
            "object_position": null,
            "object_fit": null,
            "grid_auto_columns": null,
            "margin": null,
            "display": null,
            "left": null
          }
        },
        "b6f1f03ad7c847d49795a4cb42037070": {
          "model_module": "@jupyter-widgets/controls",
          "model_name": "DescriptionStyleModel",
          "state": {
            "_view_name": "StyleView",
            "_model_name": "DescriptionStyleModel",
            "description_width": "",
            "_view_module": "@jupyter-widgets/base",
            "_model_module_version": "1.5.0",
            "_view_count": null,
            "_view_module_version": "1.2.0",
            "_model_module": "@jupyter-widgets/controls"
          }
        },
        "9f47b0715f794a06824190fa12281ade": {
          "model_module": "@jupyter-widgets/base",
          "model_name": "LayoutModel",
          "state": {
            "_view_name": "LayoutView",
            "grid_template_rows": null,
            "right": null,
            "justify_content": null,
            "_view_module": "@jupyter-widgets/base",
            "overflow": null,
            "_model_module_version": "1.2.0",
            "_view_count": null,
            "flex_flow": null,
            "width": null,
            "min_width": null,
            "border": null,
            "align_items": null,
            "bottom": null,
            "_model_module": "@jupyter-widgets/base",
            "top": null,
            "grid_column": null,
            "overflow_y": null,
            "overflow_x": null,
            "grid_auto_flow": null,
            "grid_area": null,
            "grid_template_columns": null,
            "flex": null,
            "_model_name": "LayoutModel",
            "justify_items": null,
            "grid_row": null,
            "max_height": null,
            "align_content": null,
            "visibility": null,
            "align_self": null,
            "height": null,
            "min_height": null,
            "padding": null,
            "grid_auto_rows": null,
            "grid_gap": null,
            "max_width": null,
            "order": null,
            "_view_module_version": "1.2.0",
            "grid_template_areas": null,
            "object_position": null,
            "object_fit": null,
            "grid_auto_columns": null,
            "margin": null,
            "display": null,
            "left": null
          }
        },
        "9483632226e348f0b1c13c7413b35270": {
          "model_module": "@jupyter-widgets/controls",
          "model_name": "HBoxModel",
          "state": {
            "_view_name": "HBoxView",
            "_dom_classes": [],
            "_model_name": "HBoxModel",
            "_view_module": "@jupyter-widgets/controls",
            "_model_module_version": "1.5.0",
            "_view_count": null,
            "_view_module_version": "1.5.0",
            "box_style": "",
            "layout": "IPY_MODEL_fc0a7b9d0ace4b94a46a9e2803a263df",
            "_model_module": "@jupyter-widgets/controls",
            "children": [
              "IPY_MODEL_e7e9c5d17ba741328928234f60e695d5",
              "IPY_MODEL_85df48f2a4b3411082c74b6645465acf"
            ]
          }
        },
        "fc0a7b9d0ace4b94a46a9e2803a263df": {
          "model_module": "@jupyter-widgets/base",
          "model_name": "LayoutModel",
          "state": {
            "_view_name": "LayoutView",
            "grid_template_rows": null,
            "right": null,
            "justify_content": null,
            "_view_module": "@jupyter-widgets/base",
            "overflow": null,
            "_model_module_version": "1.2.0",
            "_view_count": null,
            "flex_flow": null,
            "width": null,
            "min_width": null,
            "border": null,
            "align_items": null,
            "bottom": null,
            "_model_module": "@jupyter-widgets/base",
            "top": null,
            "grid_column": null,
            "overflow_y": null,
            "overflow_x": null,
            "grid_auto_flow": null,
            "grid_area": null,
            "grid_template_columns": null,
            "flex": null,
            "_model_name": "LayoutModel",
            "justify_items": null,
            "grid_row": null,
            "max_height": null,
            "align_content": null,
            "visibility": null,
            "align_self": null,
            "height": null,
            "min_height": null,
            "padding": null,
            "grid_auto_rows": null,
            "grid_gap": null,
            "max_width": null,
            "order": null,
            "_view_module_version": "1.2.0",
            "grid_template_areas": null,
            "object_position": null,
            "object_fit": null,
            "grid_auto_columns": null,
            "margin": null,
            "display": null,
            "left": null
          }
        },
        "e7e9c5d17ba741328928234f60e695d5": {
          "model_module": "@jupyter-widgets/controls",
          "model_name": "FloatProgressModel",
          "state": {
            "_view_name": "ProgressView",
            "style": "IPY_MODEL_b6d5626b1ac64e2a8b26712f0da69243",
            "_dom_classes": [],
            "description": "100%",
            "_model_name": "FloatProgressModel",
            "bar_style": "success",
            "max": 2,
            "_view_module": "@jupyter-widgets/controls",
            "_model_module_version": "1.5.0",
            "value": 2,
            "_view_count": null,
            "_view_module_version": "1.5.0",
            "orientation": "horizontal",
            "min": 0,
            "description_tooltip": null,
            "_model_module": "@jupyter-widgets/controls",
            "layout": "IPY_MODEL_e3aa1240f6c845d99aa812c97621edbc"
          }
        },
        "85df48f2a4b3411082c74b6645465acf": {
          "model_module": "@jupyter-widgets/controls",
          "model_name": "HTMLModel",
          "state": {
            "_view_name": "HTMLView",
            "style": "IPY_MODEL_370ca9ed0f2a45a989380b58aebe3acf",
            "_dom_classes": [],
            "description": "",
            "_model_name": "HTMLModel",
            "placeholder": "​",
            "_view_module": "@jupyter-widgets/controls",
            "_model_module_version": "1.5.0",
            "value": " 2/2 [00:54&lt;00:00, 27.15s/it]",
            "_view_count": null,
            "_view_module_version": "1.5.0",
            "description_tooltip": null,
            "_model_module": "@jupyter-widgets/controls",
            "layout": "IPY_MODEL_954abdccc8c041c18cca0ac5a4ad960d"
          }
        },
        "b6d5626b1ac64e2a8b26712f0da69243": {
          "model_module": "@jupyter-widgets/controls",
          "model_name": "ProgressStyleModel",
          "state": {
            "_view_name": "StyleView",
            "_model_name": "ProgressStyleModel",
            "description_width": "initial",
            "_view_module": "@jupyter-widgets/base",
            "_model_module_version": "1.5.0",
            "_view_count": null,
            "_view_module_version": "1.2.0",
            "bar_color": null,
            "_model_module": "@jupyter-widgets/controls"
          }
        },
        "e3aa1240f6c845d99aa812c97621edbc": {
          "model_module": "@jupyter-widgets/base",
          "model_name": "LayoutModel",
          "state": {
            "_view_name": "LayoutView",
            "grid_template_rows": null,
            "right": null,
            "justify_content": null,
            "_view_module": "@jupyter-widgets/base",
            "overflow": null,
            "_model_module_version": "1.2.0",
            "_view_count": null,
            "flex_flow": null,
            "width": null,
            "min_width": null,
            "border": null,
            "align_items": null,
            "bottom": null,
            "_model_module": "@jupyter-widgets/base",
            "top": null,
            "grid_column": null,
            "overflow_y": null,
            "overflow_x": null,
            "grid_auto_flow": null,
            "grid_area": null,
            "grid_template_columns": null,
            "flex": null,
            "_model_name": "LayoutModel",
            "justify_items": null,
            "grid_row": null,
            "max_height": null,
            "align_content": null,
            "visibility": null,
            "align_self": null,
            "height": null,
            "min_height": null,
            "padding": null,
            "grid_auto_rows": null,
            "grid_gap": null,
            "max_width": null,
            "order": null,
            "_view_module_version": "1.2.0",
            "grid_template_areas": null,
            "object_position": null,
            "object_fit": null,
            "grid_auto_columns": null,
            "margin": null,
            "display": null,
            "left": null
          }
        },
        "370ca9ed0f2a45a989380b58aebe3acf": {
          "model_module": "@jupyter-widgets/controls",
          "model_name": "DescriptionStyleModel",
          "state": {
            "_view_name": "StyleView",
            "_model_name": "DescriptionStyleModel",
            "description_width": "",
            "_view_module": "@jupyter-widgets/base",
            "_model_module_version": "1.5.0",
            "_view_count": null,
            "_view_module_version": "1.2.0",
            "_model_module": "@jupyter-widgets/controls"
          }
        },
        "954abdccc8c041c18cca0ac5a4ad960d": {
          "model_module": "@jupyter-widgets/base",
          "model_name": "LayoutModel",
          "state": {
            "_view_name": "LayoutView",
            "grid_template_rows": null,
            "right": null,
            "justify_content": null,
            "_view_module": "@jupyter-widgets/base",
            "overflow": null,
            "_model_module_version": "1.2.0",
            "_view_count": null,
            "flex_flow": null,
            "width": null,
            "min_width": null,
            "border": null,
            "align_items": null,
            "bottom": null,
            "_model_module": "@jupyter-widgets/base",
            "top": null,
            "grid_column": null,
            "overflow_y": null,
            "overflow_x": null,
            "grid_auto_flow": null,
            "grid_area": null,
            "grid_template_columns": null,
            "flex": null,
            "_model_name": "LayoutModel",
            "justify_items": null,
            "grid_row": null,
            "max_height": null,
            "align_content": null,
            "visibility": null,
            "align_self": null,
            "height": null,
            "min_height": null,
            "padding": null,
            "grid_auto_rows": null,
            "grid_gap": null,
            "max_width": null,
            "order": null,
            "_view_module_version": "1.2.0",
            "grid_template_areas": null,
            "object_position": null,
            "object_fit": null,
            "grid_auto_columns": null,
            "margin": null,
            "display": null,
            "left": null
          }
        }
      }
    }
  },
  "cells": [
    {
      "cell_type": "code",
      "metadata": {
        "colab": {
          "base_uri": "https://localhost:8080/"
        },
        "id": "HLpGLs54-8C0",
        "outputId": "83395af9-eb65-4704-9cc5-98c5035cd21b"
      },
      "source": [
        "from IPython.display import clear_output\n",
        "!pip install scipy==1.2\n",
        "!pip3 install pybalu==0.2.5\n",
        "clear_output()\n",
        "print('Librería PyBalu instalada.')"
      ],
      "execution_count": null,
      "outputs": [
        {
          "output_type": "stream",
          "text": [
            "Librería PyBalu instalada.\n"
          ],
          "name": "stdout"
        }
      ]
    },
    {
      "cell_type": "code",
      "metadata": {
        "id": "1a59aZOw_loY"
      },
      "source": [
        "import numpy as np\n",
        "import matplotlib.pyplot as plt\n",
        "from   scipy.ndimage.morphology import binary_fill_holes\n",
        "import seaborn as sns\n",
        "import cv2\n",
        "from   tqdm.auto import tqdm\n",
        "from   collections import defaultdict\n",
        "from   pybalu.feature_extraction import lbp_features, haralick_features, gabor_features, hog_features\n",
        "from   sklearn.metrics import confusion_matrix, accuracy_score\n",
        "from   sklearn.neighbors import KNeighborsClassifier\n",
        "from   sklearn.preprocessing import StandardScaler\n",
        "from   pybalu.feature_selection import clean, sfs\n",
        "from   pybalu.feature_transformation import normalize, pca\n",
        "from   sklearn.decomposition import FastICA\n",
        "from   sklearn.cross_decomposition import PLSRegression"
      ],
      "execution_count": null,
      "outputs": []
    },
    {
      "cell_type": "code",
      "metadata": {
        "colab": {
          "base_uri": "https://localhost:8080/"
        },
        "id": "ZvoCZyLC-8C7",
        "outputId": "1eaeb8b0-3579-44cd-e527-5d7b87647644"
      },
      "source": [
        "!wget https://www.dropbox.com/s/1xajq6knp1mm34h/argender.zip\n",
        "!unzip argender.zip\n",
        "clear_output()\n",
        "print('Imagenes cargadas correctamente')"
      ],
      "execution_count": null,
      "outputs": [
        {
          "output_type": "stream",
          "text": [
            "Imagenes cargadas correctamente\n"
          ],
          "name": "stdout"
        }
      ]
    },
    {
      "cell_type": "code",
      "metadata": {
        "id": "mwwlC7ze-8C8"
      },
      "source": [
        "# Funciones para cargar una imagen\n",
        "\n",
        "def build_string(prefix, num_class, num_img):\n",
        "    \"Función que retorna nombre de imagen válido\"\n",
        "    n_char = str(num_class).zfill(3)\n",
        "    n_img = str(num_img).zfill(4)\n",
        "    return prefix + '_' + n_char + '_' + n_img + '.png'\n",
        "\n",
        "def load_image(num_class, num_img, prefix='argender/face'):\n",
        "    string = build_string(prefix, num_class, num_img)\n",
        "    img = plt.imread(string)\n",
        "    return img"
      ],
      "execution_count": null,
      "outputs": []
    },
    {
      "cell_type": "code",
      "metadata": {
        "id": "qQZVei4WDPZA"
      },
      "source": [
        "def split_train_test(X, y, k, batch_train):\n",
        "    \"Función para obtener datos de train y test\"\n",
        "    batch_test = int(X.shape[0]/k) - batch_train\n",
        "    batch = batch_train + batch_test\n",
        "    Xtrain = X[: batch_train]\n",
        "    ytrain = y[: batch_train]\n",
        "    Xtest = X[batch_train: batch]\n",
        "    ytest = y[batch_train: batch]\n",
        "\n",
        "    for i in range(1, k):        \n",
        "        Xtrain = np.concatenate((Xtrain, X[batch * i : batch * i + batch_train]))\n",
        "        ytrain = np.concatenate((ytrain, y[batch * i : batch * i + batch_train]))\n",
        "        Xtest = np.concatenate((Xtest, X[batch * i + batch_train : 2 * batch * i]))\n",
        "        ytest = np.concatenate((ytest, y[batch * i + batch_train : 2 * batch * i]))\n",
        "    return Xtrain, ytrain, Xtest, ytest"
      ],
      "execution_count": null,
      "outputs": []
    },
    {
      "cell_type": "code",
      "metadata": {
        "id": "ukAT7HOCGc-N"
      },
      "source": [
        "def ClassifierKNN(Xtrain, ytrain, Xtest, ytest):\n",
        "    X = np.concatenate((Xtrain, Xtest), axis=0)\n",
        "    scaler = StandardScaler()\n",
        "    X = scaler.fit_transform(X)\n",
        "    Xtrain = X[:Xtrain.shape[0]]\n",
        "    Xtest = X[Xtrain.shape[0]:]\n",
        "    knn = KNeighborsClassifier(n_neighbors=3)\n",
        "    knn.fit(Xtrain, ytrain)\n",
        "    ypred        = knn.predict(Xtest)\n",
        "    acc          = accuracy_score(ytest,ypred)\n",
        "    print('Entrenando con '+str(Xtrain.shape[0])+' muestras y probando con '+str(Xtest.shape[0])+' muestras')\n",
        "    C = confusion_matrix(ytest,ypred)\n",
        "    \n",
        "    return acc,C"
      ],
      "execution_count": null,
      "outputs": []
    },
    {
      "cell_type": "code",
      "metadata": {
        "colab": {
          "base_uri": "https://localhost:8080/"
        },
        "id": "0uhv8rtaQ19U",
        "outputId": "9dc7513f-2254-4241-e8c0-45342cbad823"
      },
      "source": [
        "from google.colab import drive\n",
        "drive.mount('/content/drive')"
      ],
      "execution_count": null,
      "outputs": [
        {
          "output_type": "stream",
          "text": [
            "Mounted at /content/drive\n"
          ],
          "name": "stdout"
        }
      ]
    },
    {
      "cell_type": "markdown",
      "metadata": {
        "id": "TbVwiyXtFpD_"
      },
      "source": [
        "### Parámetros del problema:"
      ]
    },
    {
      "cell_type": "code",
      "metadata": {
        "id": "gX0eCn4dF0q3"
      },
      "source": [
        "K = 2           # Número de clases\n",
        "N = 700         # Número de imágenes por clase"
      ],
      "execution_count": null,
      "outputs": []
    },
    {
      "cell_type": "markdown",
      "metadata": {
        "id": "z_qPcnP6GHJn"
      },
      "source": [
        "# Extracción de características\n",
        "En esta sección se ocupan los métodos LBP, Haralick, Gabor y HoG. En primer lugar mostramos en qué consiste a grandes rasgos cada uno de estos métodos y luego lo empleamos.\n",
        "\n"
      ]
    },
    {
      "cell_type": "markdown",
      "metadata": {
        "id": "JKINN-jH-8C8"
      },
      "source": [
        "## 1) LBP clásico\n",
        "\n",
        "LBP es un descriptor local de texturas que es construído comparando cada pixel con su vecindario de pixeles más cercanos.\n",
        "\n",
        "El primer paso para la construcción del LBP es efectuar la codificación. Para esto es necesario considerar para cada pixel su vecindad y digitar un cero o uno dependiendo de la comparación del valor del pixel en cuestión versus el de su vecino. Si el valor del pixel estudiado es mayor que el valor del pixel del vecino, se anota un 1 en la posición del vecino, mientras que si su valor es menor se digita un 0. La imagen de a continuación ejemplifica el primer paso para el pixel marcado en rojo.\n",
        "<p align=\"center\">\n",
        "<img src=\"https://www.pyimagesearch.com/wp-content/uploads/2015/12/lbp_thresholding.jpg\" width=\"500\" height=\"200\"/>\n",
        "<p align=\"center\">\n",
        "\n",
        "\n",
        "Como consideramos una vecindad de 8 pixeles para el pixel estudiado, tenemos $2^{8}=256$ posibles combinaciones de codificaciones LBP para dicho pixel. Lo siguiente es entonces calcular el valor LBP para el pixel, para esto, lo que hacemos es tomar el 8-bit binario del vecindario obtenido en el paso anterior y convertirlo a número decimal. Este paso es representado en la siguiente figura:\n",
        "\n",
        "<p align=\"center\">\n",
        "<img src=\"https://www.pyimagesearch.com/wp-content/uploads/2015/12/lbp_calculation-1024x299.jpg\" width=\"500\" height=\"200\"/>\n",
        "<p align=\"center\">\n",
        "\n",
        "Observar que en este ejemplo se comenzó a contar desde el pixel superior derecho y trabajar en sentido horario (podría adoptarse otra convención mientras seas consistente). En el caso de este pixel se obtuvo un resultado de 23. Este proceso se repite para cada uno de los pixeles de la imagen obteniéndose algo similar a lo mostrado en la siguiente figura:\n",
        "\n",
        "<p align=\"center\">\n",
        "<img src=\"https://www.pyimagesearch.com/wp-content/uploads/2015/12/lbp_to_output-1024x519.jpg\" width=\"500\" height=\"200\"/>\n",
        "<p align=\"center\">\n",
        "\n",
        "\n",
        "El siguiente paso es el Mapeo, proceso en el cual se detectan diferentes posibilidades de patrones segun el número de cambios de valor en la codificación para cada vecindad del pixel. En este sentido, tenemos dos posibilidades: Patrones uniformes y patrones no uniformes. Los patrones uniformes ocurren cuando hay cero cambios de valor y dos (no puede existir un número impar de cambios de valor). los cuales se muestran en la siguiente figura:\n",
        "\n",
        "<p align=\"center\">\n",
        "<img src=\"https://i.stack.imgur.com/AMLGu.png\" width=\"350\" height=\"500\"/>\n",
        "<p align=\"center\">\n",
        "\n",
        "\n",
        "Se puede observar que el primer y último círculo corresponden a los cero cambios, mientras que los círculos ubicados entre estos dos corresponden a los escenarios posibles para dos cambios (56 posibilidades). De esta forma, tenemos 58 patrones uniformes.\n",
        "\n",
        "Los patrones no uniformes ocurren cuando hay más de dos cambios. Se consideran no uniformes debido a que hay mucho ruido. De esta manera tenemos $256-58 = 198$ patrones no uniformes que se agruparán en uno solo.\n",
        "\n",
        "Así, podemos adoptar la siguiente convención: Los dos patrones con cero cambios se les asigna el valor cero y uno respectivamente. Los patrones con dos cambios toman los valores $2,3,4,...,57$ mientras que todos los patrones no uniformes son mapeados al valor 58.\n",
        "\n",
        "La siguiente figura muestra los procesos recién explicados:\n",
        "\n",
        "![mapeo.png](data:image/png;base64,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)\n",
        "\n",
        "El último paso es el histograma. En este caso se cuenta el número de pixeles que fueron mapeados a cada uno de los 59 posibles patrones. Ese histograma es el descriptor LBP que contiene información sobre la textura de la imagen. En la práctica, para obtener también información posicional sobre la imagen, uno puede particionarla y efectuar el lbp para cada cuadro generado en la imagen tal como se muestra en la figura.\n",
        "\n",
        "\n",
        "\n",
        "\n",
        "<p align=\"center\">\n",
        "<img src=\"https://www.researchgate.net/publication/305820417/figure/fig3/AS:391368460521496@1470320920973/Example-of-histogram-feature-extraction-using-multi-level-local-binary-pattern-MLBP-at.png\" width=\"700\" height=\"400\"/>\n",
        "<p align=\"center\">\n",
        "\n",
        "\n",
        "\n",
        "[Local Binary Patterns with Python & OpenCV](https://www.pyimagesearch.com/2015/12/07/local-binary-patterns-with-python-opencv/)\n",
        "\n",
        "[Number of different output labels in Local Binaty Pattern](https://cs.stackexchange.com/questions/19844/number-of-different-output-labels-in-local-binary-pattern)\n",
        "\n",
        "\n"
      ]
    },
    {
      "cell_type": "markdown",
      "metadata": {
        "id": "ZOpVeiVEJ7W2"
      },
      "source": [
        "Extracción de características LBP:\n",
        "\n",
        "Parámetros LBP"
      ]
    },
    {
      "cell_type": "code",
      "metadata": {
        "id": "i0BTjB9I-8C9"
      },
      "source": [
        "a = 1           # hdiv\n",
        "b = 1           # vdiv\n",
        "Mlbp =  59 * a * b\n",
        "Xlbp = np.zeros((K * N, Mlbp))     \n",
        "y = np.zeros((K * N),'int')"
      ],
      "execution_count": null,
      "outputs": []
    },
    {
      "cell_type": "markdown",
      "metadata": {
        "id": "0cNPOFsIJ-2w"
      },
      "source": [
        "Extracción de características LBP"
      ]
    },
    {
      "cell_type": "code",
      "metadata": {
        "colab": {
          "base_uri": "https://localhost:8080/",
          "height": 66,
          "referenced_widgets": [
            "2ecdf7a15bc14f46b60ebb799c67849b",
            "f3ff113e29c74ec3b514cb13e6708227",
            "a6da1abf26a941d88c2f30de2fdbf0bc",
            "da9c3186990548f2a61c34d40b9a453b",
            "59a0f50224034b5eabd1b4056b44a07d",
            "2b5ee9140f5b42bab55babbe947c2eaa",
            "9f637f6bca08411c8460e1059c478d8a",
            "f14324255cca40a69610d045b6e18168"
          ]
        },
        "id": "fW5NPdoN-8C9",
        "outputId": "5c0994bf-2062-4ef7-b2e5-9eccce32676c"
      },
      "source": [
        "row = 0\n",
        "for n_class in tqdm(range(1, K + 1)):\n",
        "    for n_img in range(1, N + 1):\n",
        "        img = load_image(n_class, n_img)\n",
        "        Xlbp[row,:] = lbp_features(img, hdiv=a, vdiv=b, mapping='nri_uniform')\n",
        "        y[row] = n_class\n",
        "        row += 1"
      ],
      "execution_count": null,
      "outputs": [
        {
          "output_type": "display_data",
          "data": {
            "application/vnd.jupyter.widget-view+json": {
              "model_id": "2ecdf7a15bc14f46b60ebb799c67849b",
              "version_minor": 0,
              "version_major": 2
            },
            "text/plain": [
              "HBox(children=(FloatProgress(value=0.0, max=2.0), HTML(value='')))"
            ]
          },
          "metadata": {
            "tags": []
          }
        },
        {
          "output_type": "stream",
          "text": [
            "\n"
          ],
          "name": "stdout"
        }
      ]
    },
    {
      "cell_type": "markdown",
      "metadata": {
        "id": "Vssbd9SRKGPS"
      },
      "source": [
        "Obtención datos de entrenamiento y test"
      ]
    },
    {
      "cell_type": "code",
      "metadata": {
        "id": "M665eQVNATGr"
      },
      "source": [
        "Xtrainlbp, ytrain, Xtestlbp, ytest = split_train_test(Xlbp, y, 2, 630)"
      ],
      "execution_count": null,
      "outputs": []
    },
    {
      "cell_type": "markdown",
      "metadata": {
        "id": "X-f7LRbmHHvs"
      },
      "source": [
        "## 2) Haralick\n",
        "Este método, al igual que LBP detecta patrones de texturas en las imágenes. Sin embargo, la manera en que lo hace es totalmente distinta y se centra en un concepto llamado Matriz de Co-currencia.\n",
        "\n",
        "La matriz de Co-ocurrencia registra cuán seguido aparecen pares de pixeles adyacentes con determinados valore, por ejemplo, cuántas veces aparece el par (1,1), (1,2), (2,3), (2,1), etc. El resultado será una matriz de 255x255 (escala de grises), donde cada celda contiene el conteo de ocurrencias de ese par, por ejemplo, la fila 2, columna 3 contendrá el número de veces que el par (2,3) aparece en la imagen.\n",
        "\n",
        "El descriptor de Haralick computa cuartro matrices de Co-ocurrencia, correspondiente a las cuatro direcciones siguientes:\n",
        "\n",
        "\n",
        "1.   De izquierda a derecha.\n",
        "2.   De arriba hacia abajo.\n",
        "3.   De la esquina superior izquierda a la esquina inferior derecha (pares diagonales adyacentes)\n",
        "4. De la esquina superior derecha a la esquina inferior izquierda (pares diagonales adyacentes)\n",
        "\n",
        "A modo de intuición, notemos que si los valores en la diagonal de la matriz de ocurrencia son altos, significa que los valores en la dirección que define a la matriz de ocurrencia en cuestión son muy similares.\n",
        "\n",
        "Para la construcción de la matriz de Co-ocurrencia es también necesario definir un parámetro de distancia entre los pixeles, es decir, cuando consideremos por ejemplo la dirección vertical de arriba hacia abajo, los pares a considerar son los que poseen una distancia de tres pixeles en forma vertical. Esta misma idea se aplica para las otras direcciones. La definición de este parámetro es útil para manejar la extracción de características en la imagen considerando si esta posee mucha variación o no en su textura. Por ejemplo, para imágenes con alta variación en su textura es conveniente definir un parámetro de distancia pequeño, mientras que si la variación es baja es conveniente un parámetro de distancia alto.\n",
        "\n",
        "A continuación de definir las matriz de Co-ocurrencia, se calculan estadísticas descriptivas (14) para cada matriz, las cuales representan propiedades como el contraste, entropía, correlación, homogeneidad, etc. Como resultado se obtienen cuatro vectores de dimensión 14 a los cuales se les calcula el promedio y rango para cada característica. De esta forma, se obtienen 28 características: 14 correspondientes al promedio y 14 correspondientes al rango.\n",
        "\n"
      ]
    },
    {
      "cell_type": "markdown",
      "metadata": {
        "id": "qolmI1otKYVp"
      },
      "source": [
        "Extracción de características de Haralick:\n",
        "\n",
        "Parámetros Haralick"
      ]
    },
    {
      "cell_type": "code",
      "metadata": {
        "id": "_6BDZhkKT7Hd"
      },
      "source": [
        "Mhar = 28\n",
        "dist = 3\n",
        "Xhar  = np.zeros((K*N, Mhar))\n",
        "y = np.zeros((K * N),'int')"
      ],
      "execution_count": null,
      "outputs": []
    },
    {
      "cell_type": "markdown",
      "metadata": {
        "id": "lEaUezGRKbuX"
      },
      "source": [
        "Extracción características de Haralick"
      ]
    },
    {
      "cell_type": "code",
      "metadata": {
        "colab": {
          "base_uri": "https://localhost:8080/",
          "height": 66,
          "referenced_widgets": [
            "ee18aa3f19404955968b4fcc1fd92fd3",
            "cdeffa1b86ed407aae18dd6b9fb2cbb1",
            "9948d65948ee4d9495d31c9e989aba07",
            "a20e5bde3ea743d7af13b32a27b5d9ff",
            "7df3d144fde742e996c4c8058cae0b96",
            "7c5d16d577ed486a833d0b94e7dd7fca",
            "1f3441bfeac54867b41e5ba3f87f21ab",
            "9ee51f9988294a119462e73191ce2586"
          ]
        },
        "id": "-HlFQpvKT71O",
        "outputId": "24a4a064-8262-4076-9147-1e9cf6e8c0fa"
      },
      "source": [
        "row = 0\n",
        "for n_class in tqdm(range(1, K + 1)):\n",
        "    for n_img in range(1, N + 1):\n",
        "        img = load_image(n_class, n_img)\n",
        "        Xhar[row,:] = haralick_features(img, distance=dist)\n",
        "        y[row] = n_class\n",
        "        row += 1"
      ],
      "execution_count": null,
      "outputs": [
        {
          "output_type": "display_data",
          "data": {
            "application/vnd.jupyter.widget-view+json": {
              "model_id": "ee18aa3f19404955968b4fcc1fd92fd3",
              "version_minor": 0,
              "version_major": 2
            },
            "text/plain": [
              "HBox(children=(FloatProgress(value=0.0, max=2.0), HTML(value='')))"
            ]
          },
          "metadata": {
            "tags": []
          }
        },
        {
          "output_type": "stream",
          "text": [
            "\n"
          ],
          "name": "stdout"
        }
      ]
    },
    {
      "cell_type": "markdown",
      "metadata": {
        "id": "YYfTg7-BKikl"
      },
      "source": [
        "Obtenemos datos de entrenamiento y test"
      ]
    },
    {
      "cell_type": "code",
      "metadata": {
        "id": "xogOlJBz18n7"
      },
      "source": [
        "Xtrainhar, ytrain, Xtesthar, ytest = split_train_test(Xhar, y, 2, 630)"
      ],
      "execution_count": null,
      "outputs": []
    },
    {
      "cell_type": "markdown",
      "metadata": {
        "id": "pvc36nnAg_PO"
      },
      "source": [
        "## 3) Gabor\n",
        "La técnica de reconocimiento de patrones de Gabor también es a partir de la detección de texturas. Su explicación es un poco más sencilla que los casos anteriores. Lo que se hace es, a partir de la ponderación de una Gaussiana con una función sinusoidal, crear una máscara (patrón específico de textura). El siguiente paso es escoger un número de rotaciones y número de dilataciones que trabajarán sobre dicha máscara generando un número de rotaciones x dilataciones máscaras con las que se efectúa la convolución sobre la imagen. De esta manera, sectores que tengan un valor alto en la convolución con una máscara significará que en ese sector dicho patrón está presente.\n",
        "\n",
        "Finalmente, lo que se hace es, por cada matriz convolutiva generada, se efectúa una sumatoria de sus valores que darán como resultado los patrones de Gabor. adicionalmente, se consideran tres patrones más que corresponden al valor mínimo, máximo y rango normalizado.\n"
      ]
    },
    {
      "cell_type": "markdown",
      "metadata": {
        "id": "Bj1XUbEhhD0k"
      },
      "source": [
        "Extracción patrones de Gabor:\n",
        "\n",
        "Parámetros Gabor"
      ]
    },
    {
      "cell_type": "code",
      "metadata": {
        "id": "BcKzcbCZhH-A"
      },
      "source": [
        "rot = 8\n",
        "dilat = 8\n",
        "Mgab = rot * dilat + 3\n",
        "\n",
        "Xgab = np.zeros((K*N, Mgab))\n",
        "y = np.zeros((K * N),'int')"
      ],
      "execution_count": null,
      "outputs": []
    },
    {
      "cell_type": "markdown",
      "metadata": {
        "id": "TS3nJOUehD_W"
      },
      "source": [
        "Extracción características de Gabor"
      ]
    },
    {
      "cell_type": "code",
      "metadata": {
        "colab": {
          "base_uri": "https://localhost:8080/",
          "height": 66,
          "referenced_widgets": [
            "a1d2248289744a15912a6de64c1125e7",
            "f6360249fe9d47368fa3bfb3d32190f6",
            "109394267e1741d7bcbf67559b857e3a",
            "61f362d22adc4c0e967fb82426aa6730",
            "de3a9c6e86e04c65849b263e5557fe1d",
            "59bda6e7d9f74990a6bf4826de74cefc",
            "b6f1f03ad7c847d49795a4cb42037070",
            "9f47b0715f794a06824190fa12281ade"
          ]
        },
        "id": "M9pE_chzhODD",
        "outputId": "0d4ea76a-87bd-4ed9-b791-eb274b3670a7"
      },
      "source": [
        "row = 0\n",
        "for n_class in tqdm(range(1, K + 1)):\n",
        "    for n_img in range(1, N + 1):\n",
        "        img = load_image(n_class, n_img)\n",
        "        Xgab[row,:] = gabor_features(img, rotations=rot, dilations=dilat)\n",
        "        y[row] = n_class\n",
        "        row += 1"
      ],
      "execution_count": null,
      "outputs": [
        {
          "output_type": "display_data",
          "data": {
            "application/vnd.jupyter.widget-view+json": {
              "model_id": "a1d2248289744a15912a6de64c1125e7",
              "version_minor": 0,
              "version_major": 2
            },
            "text/plain": [
              "HBox(children=(FloatProgress(value=0.0, max=2.0), HTML(value='')))"
            ]
          },
          "metadata": {
            "tags": []
          }
        },
        {
          "output_type": "stream",
          "text": [
            "\n"
          ],
          "name": "stdout"
        }
      ]
    },
    {
      "cell_type": "markdown",
      "metadata": {
        "id": "Z_N-vpPPhEG5"
      },
      "source": [
        "Obtención datos de entrenamiento y test"
      ]
    },
    {
      "cell_type": "code",
      "metadata": {
        "id": "LiqeSXsygSw8"
      },
      "source": [
        "Xtraingab, ytrain, Xtestgab, ytest = split_train_test(Xgab, y, 2, 630)"
      ],
      "execution_count": null,
      "outputs": []
    },
    {
      "cell_type": "markdown",
      "metadata": {
        "id": "cPDdQz3Z2LWe"
      },
      "source": [
        "## 4) HoG\n",
        "\n",
        "En este caso lo que se hace es trabajar con los llamados histogramas orientados de gradiente.\n",
        "El primer caso es, a partir de una imagen, calcular su gradiente en la dirección x e y por separado. El resultado serán dos imágenes que poseen como valor alto los lugares en que en la imagen original habían grandes cambios de color en la dirección del gradiente respectivo.\n",
        "\n",
        "Como los gradientes son vectores, podemos calcular su magnitud y ángulo. Con estos datos podemos calcular el histograma de ocho direcciones del gradiente.(arriba, abajo, izquierda, derecha y diagonales).\n",
        "\n",
        "Para cada dirección seleccionada se considera el ángulo de dicha dirección más menos 22.5 grados. por ejemplo, si consideramos la dirección hacia a derecha, el ángulo es cero por lo tanto la zona de interés va desde los -22.5 grados hasta los 22.5 grados, barriendo en total una zona de 45 grados. Acto seguido, se revisa en la imagen de ángulos cuáles valores están entre los ángulos de inteŕes. Conociendo las coordenadas de dichos pixeles, lo que se hace es sumar sus valores en la imagen correspondiente a las magnitudes de los gradientes. El valor resultante vendría siendo la \"frecuencia\" en la dirección uno para el histograma.\n",
        "\n",
        "En la práctica, los autores proponen particionar la imagen y efectuar este proceso para cada una de las particiones. Las features resultantes serán la concatenación de los histogramas para cada partición de la la imagen."
      ]
    },
    {
      "cell_type": "markdown",
      "metadata": {
        "id": "n4oqYpT82Pgk"
      },
      "source": [
        "Parámetros HoG"
      ]
    },
    {
      "cell_type": "code",
      "metadata": {
        "id": "80YOZkAy2Ub7"
      },
      "source": [
        "vwind = 3\n",
        "hwind = 3\n",
        "bins = 9\n",
        "Mhog = vwind * hwind * bins\n",
        "\n",
        "Xhog  = np.zeros((K*N,Mhog))\n",
        "y     = np.zeros((K*N),'int') 3"
      ],
      "execution_count": null,
      "outputs": []
    },
    {
      "cell_type": "markdown",
      "metadata": {
        "id": "1s19--B42Uoi"
      },
      "source": [
        "Extracción características Hog"
      ]
    },
    {
      "cell_type": "code",
      "metadata": {
        "colab": {
          "base_uri": "https://localhost:8080/",
          "height": 66,
          "referenced_widgets": [
            "9483632226e348f0b1c13c7413b35270",
            "fc0a7b9d0ace4b94a46a9e2803a263df",
            "e7e9c5d17ba741328928234f60e695d5",
            "85df48f2a4b3411082c74b6645465acf",
            "b6d5626b1ac64e2a8b26712f0da69243",
            "e3aa1240f6c845d99aa812c97621edbc",
            "370ca9ed0f2a45a989380b58aebe3acf",
            "954abdccc8c041c18cca0ac5a4ad960d"
          ]
        },
        "id": "L-3LK1t12YNj",
        "outputId": "8b9dbc1d-a299-400b-ac5c-3ad680515638"
      },
      "source": [
        "row = 0\n",
        "for n_class in tqdm(range(1, K + 1)):\n",
        "    for n_img in range(1, N + 1):\n",
        "        img = load_image(n_class, n_img)\n",
        "        Xhog[row,:] = hog_features(img, v_windows=vwind, h_windows=hwind, n_bins=bins) \n",
        "        y[row] = n_class\n",
        "        row += 1"
      ],
      "execution_count": null,
      "outputs": [
        {
          "output_type": "display_data",
          "data": {
            "application/vnd.jupyter.widget-view+json": {
              "model_id": "9483632226e348f0b1c13c7413b35270",
              "version_minor": 0,
              "version_major": 2
            },
            "text/plain": [
              "HBox(children=(FloatProgress(value=0.0, max=2.0), HTML(value='')))"
            ]
          },
          "metadata": {
            "tags": []
          }
        },
        {
          "output_type": "stream",
          "text": [
            "\n"
          ],
          "name": "stdout"
        }
      ]
    },
    {
      "cell_type": "markdown",
      "metadata": {
        "id": "riTzPiQZ8ADR"
      },
      "source": [
        "Obtención datos de entrenamiento y test"
      ]
    },
    {
      "cell_type": "code",
      "metadata": {
        "id": "25vgVKRT76bG"
      },
      "source": [
        "Xtrainhog, ytrain, Xtesthog, ytest = split_train_test(Xhog, y, 2, 630)"
      ],
      "execution_count": null,
      "outputs": []
    },
    {
      "cell_type": "markdown",
      "metadata": {
        "id": "ITeGu8vQ7cUU"
      },
      "source": [
        "# Accuracy sin filtrar\n",
        "\n",
        "En esta sección obtendremos el accuracy utilizando las características lbp, haralick, Gabor y Hog por separado sin efectuar ninguna técnica de limpieza ni reducción de dimensionalidad. Luego mostramos el accuracy utilizando como matriz de características la concatenación de todos los casos anteriores."
      ]
    },
    {
      "cell_type": "markdown",
      "metadata": {
        "id": "RHTHUNOL8HO5"
      },
      "source": [
        "1) Accuracy LBP"
      ]
    },
    {
      "cell_type": "code",
      "metadata": {
        "colab": {
          "base_uri": "https://localhost:8080/",
          "height": 327
        },
        "id": "EsSdqJlV8HrT",
        "outputId": "442d775e-b009-4e1f-c678-6d75286c2ab9"
      },
      "source": [
        "acc, C = ClassifierKNN(Xtrainlbp, ytrain, Xtestlbp, ytest)\n",
        "print('LBP Accuracy = '+str(acc*100)+'%')\n",
        "\n",
        "plt.figure(figsize=(5,4))\n",
        "sns.set(font_scale=1.4) # for label size\n",
        "sns.heatmap(C, annot=True, annot_kws={\"size\": 16}) # font size\n",
        "plt.title('Matriz de confusión LBP Testing')\n",
        "plt.show()"
      ],
      "execution_count": null,
      "outputs": [
        {
          "output_type": "stream",
          "text": [
            "Entrenando con 1260 muestras y probando con 140 muestras\n",
            "LBP Accuracy = 87.85714285714286%\n"
          ],
          "name": "stdout"
        },
        {
          "output_type": "display_data",
          "data": {
            "image/png": "[encoded data removed]",
            "text/plain": [
              "<Figure size 360x288 with 2 Axes>"
            ]
          },
          "metadata": {
            "tags": []
          }
        }
      ]
    },
    {
      "cell_type": "markdown",
      "metadata": {
        "id": "CC_b4BTT8H1w"
      },
      "source": [
        "2) Accuracy Haralick"
      ]
    },
    {
      "cell_type": "code",
      "metadata": {
        "colab": {
          "base_uri": "https://localhost:8080/",
          "height": 327
        },
        "id": "BffGwIKy8H_h",
        "outputId": "0b40c8cf-69e9-4701-b143-54be856150f3"
      },
      "source": [
        "acc, C = ClassifierKNN(Xtrainhar, ytrain, Xtesthar, ytest)\n",
        "print('Haralick Accuracy = '+str(acc*100)+'%')\n",
        "\n",
        "plt.figure(figsize=(5,4))\n",
        "sns.set(font_scale=1.4) # for label size\n",
        "sns.heatmap(C, annot=True, annot_kws={\"size\": 16}) # font size\n",
        "plt.title('Matriz de confusión Haralick Testing')\n",
        "plt.show()"
      ],
      "execution_count": null,
      "outputs": [
        {
          "output_type": "stream",
          "text": [
            "Entrenando con 1260 muestras y probando con 140 muestras\n",
            "Haralick Accuracy = 50.0%\n"
          ],
          "name": "stdout"
        },
        {
          "output_type": "display_data",
          "data": {
            "image/png": "[encoded data removed]",
            "text/plain": [
              "<Figure size 360x288 with 2 Axes>"
            ]
          },
          "metadata": {
            "tags": []
          }
        }
      ]
    },
    {
      "cell_type": "markdown",
      "metadata": {
        "id": "4gL7hyRL8IKH"
      },
      "source": [
        "3) Accuracy Gabor"
      ]
    },
    {
      "cell_type": "code",
      "metadata": {
        "colab": {
          "base_uri": "https://localhost:8080/",
          "height": 327
        },
        "id": "JT3PtgB08IUK",
        "outputId": "b86ed5ae-4215-4e91-b671-70c514183e96"
      },
      "source": [
        "acc, C = ClassifierKNN(Xtraingab, ytrain, Xtestgab, ytest)\n",
        "print('Gabor Accuracy = '+str(acc*100)+'%')\n",
        "\n",
        "plt.figure(figsize=(5,4))\n",
        "sns.set(font_scale=1.4) # for label size\n",
        "sns.heatmap(C, annot=True, annot_kws={\"size\": 16}) # font size\n",
        "plt.title('Matriz de confusión Gabor Testing')\n",
        "plt.show()"
      ],
      "execution_count": null,
      "outputs": [
        {
          "output_type": "stream",
          "text": [
            "Entrenando con 1260 muestras y probando con 140 muestras\n",
            "Gabor Accuracy = 78.57142857142857%\n"
          ],
          "name": "stdout"
        },
        {
          "output_type": "display_data",
          "data": {
            "image/png": "[encoded data removed]",
            "text/plain": [
              "<Figure size 360x288 with 2 Axes>"
            ]
          },
          "metadata": {
            "tags": []
          }
        }
      ]
    },
    {
      "cell_type": "markdown",
      "metadata": {
        "id": "vlFBZPpC8Ido"
      },
      "source": [
        "4) Accuracy HoG"
      ]
    },
    {
      "cell_type": "code",
      "metadata": {
        "colab": {
          "base_uri": "https://localhost:8080/",
          "height": 327
        },
        "id": "0RT1YC1b8Inb",
        "outputId": "a5e184bd-6afc-4712-a0f4-78764728c417"
      },
      "source": [
        "acc, C = ClassifierKNN(Xtrainhog, ytrain, Xtesthog, ytest)\n",
        "print('HoG Accuracy = '+str(acc*100)+'%')\n",
        "\n",
        "plt.figure(figsize=(5,4))\n",
        "sns.set(font_scale=1.4) # for label size\n",
        "sns.heatmap(C, annot=True, annot_kws={\"size\": 16}) # font size\n",
        "plt.title('Matriz de confusión HoG Testing')\n",
        "plt.show()"
      ],
      "execution_count": null,
      "outputs": [
        {
          "output_type": "stream",
          "text": [
            "Entrenando con 1260 muestras y probando con 140 muestras\n",
            "HoG Accuracy = 75.0%\n"
          ],
          "name": "stdout"
        },
        {
          "output_type": "display_data",
          "data": {
            "image/png": "[encoded data removed]",
            "text/plain": [
              "<Figure size 360x288 with 2 Axes>"
            ]
          },
          "metadata": {
            "tags": []
          }
        }
      ]
    },
    {
      "cell_type": "markdown",
      "metadata": {
        "id": "WZPGw5pb9Y3Z"
      },
      "source": [
        "5) Accuracy concatenación Features"
      ]
    },
    {
      "cell_type": "code",
      "metadata": {
        "id": "PSEO4_L82eoP"
      },
      "source": [
        "Xtrain = np.concatenate((Xtrainlbp, Xtrainhar, Xtraingab, Xtrainhog), axis=1)\n",
        "Xtest = np.concatenate((Xtestlbp, Xtesthar, Xtestgab, Xtesthog), axis=1)"
      ],
      "execution_count": null,
      "outputs": []
    },
    {
      "cell_type": "code",
      "metadata": {
        "colab": {
          "base_uri": "https://localhost:8080/",
          "height": 327
        },
        "id": "SHh73rDnjqZq",
        "outputId": "57ddf5a5-13ad-4880-a33e-1b38bc438316"
      },
      "source": [
        "acc, C = ClassifierKNN(Xtrain, ytrain, Xtest, ytest)\n",
        "print('Concatenación Features Accuracy = '+str(acc*100)+'%')\n",
        "\n",
        "plt.figure(figsize=(5,4))\n",
        "sns.set(font_scale=1.4) # for label size\n",
        "sns.heatmap(C, annot=True, annot_kws={\"size\": 16}) # font size\n",
        "plt.title('Matriz conf. Concatenación features Testing')\n",
        "plt.show()"
      ],
      "execution_count": null,
      "outputs": [
        {
          "output_type": "stream",
          "text": [
            "Entrenando con 1260 muestras y probando con 140 muestras\n",
            "Concatenación Features Accuracy = 87.85714285714286%\n"
          ],
          "name": "stdout"
        },
        {
          "output_type": "display_data",
          "data": {
            "image/png": "[encoded data removed]",
            "text/plain": [
              "<Figure size 360x288 with 2 Axes>"
            ]
          },
          "metadata": {
            "tags": []
          }
        }
      ]
    },
    {
      "cell_type": "markdown",
      "metadata": {
        "id": "ZDiBfxyECzgf"
      },
      "source": [
        "# Clean "
      ]
    },
    {
      "cell_type": "markdown",
      "metadata": {
        "id": "tieRJLMPDkHQ"
      },
      "source": [
        "Efectuamos clean y obtenemos índices de dichas características"
      ]
    },
    {
      "cell_type": "code",
      "metadata": {
        "colab": {
          "base_uri": "https://localhost:8080/"
        },
        "id": "y55rJR3-9xd1",
        "outputId": "e932c188-4e88-40d5-ba0e-9b86851561df"
      },
      "source": [
        "sclean       = clean(Xtrain)   \n",
        "Xtrain_clean = Xtrain[:, sclean]   \n",
        "Xtest_clean  = Xtest[:, sclean]\n",
        "print('Seleccionadas '+str(len(sclean))+' de '+str(Xtrain.shape[1])+' características')"
      ],
      "execution_count": null,
      "outputs": [
        {
          "output_type": "stream",
          "text": [
            "Seleccionadas 184 de 235 características\n"
          ],
          "name": "stdout"
        }
      ]
    },
    {
      "cell_type": "markdown",
      "metadata": {
        "id": "sdCn_Qv3D1bG"
      },
      "source": [
        "Efectuamos clasificación con dichas características"
      ]
    },
    {
      "cell_type": "code",
      "metadata": {
        "colab": {
          "base_uri": "https://localhost:8080/",
          "height": 327
        },
        "id": "9OWsWpN5Dx-Q",
        "outputId": "156b5187-4ae4-4feb-f5bb-08c7e49431e1"
      },
      "source": [
        "acc, C = ClassifierKNN(Xtrain_clean, ytrain, Xtest_clean, ytest)\n",
        "print('Clean Accuracy = '+str(acc*100)+'%')\n",
        "\n",
        "plt.figure(figsize=(5,4))\n",
        "sns.set(font_scale=1.4) # for label size\n",
        "sns.heatmap(C, annot=True, annot_kws={\"size\": 16}) # font size\n",
        "plt.title('Matriz de confusión Clean Testing')\n",
        "plt.show()"
      ],
      "execution_count": null,
      "outputs": [
        {
          "output_type": "stream",
          "text": [
            "Entrenando con 1260 muestras y probando con 140 muestras\n",
            "Clean Accuracy = 87.14285714285714%\n"
          ],
          "name": "stdout"
        },
        {
          "output_type": "display_data",
          "data": {
            "image/png": "[encoded data removed]",
            "text/plain": [
              "<Figure size 360x288 with 2 Axes>"
            ]
          },
          "metadata": {
            "tags": []
          }
        }
      ]
    },
    {
      "cell_type": "markdown",
      "metadata": {
        "id": "3gTRhm_IElsf"
      },
      "source": [
        "# Normalización MinMax para los datos"
      ]
    },
    {
      "cell_type": "code",
      "metadata": {
        "id": "36dBYfPQDz8_"
      },
      "source": [
        "X = np.concatenate((Xtrain_clean, Xtest_clean), axis=0)\n",
        "scaler = StandardScaler()\n",
        "Xnorm = scaler.fit_transform(X)\n",
        "\n",
        "Xtrain_norm = Xnorm[:Xtrain_clean.shape[0]]\n",
        "Xtest_norm = Xnorm[Xtrain_clean.shape[0]:]"
      ],
      "execution_count": null,
      "outputs": []
    },
    {
      "cell_type": "markdown",
      "metadata": {
        "id": "xXXdZEnbHu8s"
      },
      "source": [
        "# Selección de características"
      ]
    },
    {
      "cell_type": "markdown",
      "metadata": {
        "id": "5gVa1VB7Hz4s"
      },
      "source": [
        "1) SFS 50 features"
      ]
    },
    {
      "cell_type": "code",
      "metadata": {
        "colab": {
          "base_uri": "https://localhost:8080/",
          "height": 327
        },
        "id": "z6Jr3E-MF345",
        "outputId": "3c22aab3-f92b-4472-a7b1-f4b7f3e97fb8"
      },
      "source": [
        "n_sfs = 50\n",
        "\n",
        "sel = sfs(Xtrain_norm, ytrain, n_sfs, show=False)    \n",
        "Xtrain_sfs = Xtrain_norm[:,sel] \n",
        "Xtest_sfs  = Xtest_norm[:,sel]\n",
        "\n",
        "acc,C = ClassifierKNN(Xtrain_sfs,ytrain,Xtest_sfs,ytest)\n",
        "print('SFS Accuracy = '+str(acc*100)+'%')\n",
        "\n",
        "plt.figure(figsize=(5,4))\n",
        "sns.set(font_scale=1.4) # for label size\n",
        "sns.heatmap(C, annot=True, annot_kws={\"size\": 16}) # font size\n",
        "plt.title('Matriz de conf. SFS (50) Testing')\n",
        "plt.show()"
      ],
      "execution_count": null,
      "outputs": [
        {
          "output_type": "stream",
          "text": [
            "Entrenando con 1260 muestras y probando con 140 muestras\n",
            "SFS Accuracy = 91.42857142857143%\n"
          ],
          "name": "stdout"
        },
        {
          "output_type": "display_data",
          "data": {
            "image/png": "[encoded data removed]",
            "text/plain": [
              "<Figure size 360x288 with 2 Axes>"
            ]
          },
          "metadata": {
            "tags": []
          }
        }
      ]
    },
    {
      "cell_type": "markdown",
      "metadata": {
        "id": "ZNLr7nrvHBI4"
      },
      "source": [
        "2) PLSR 9 componentes"
      ]
    },
    {
      "cell_type": "code",
      "metadata": {
        "colab": {
          "base_uri": "https://localhost:8080/",
          "height": 327
        },
        "id": "pbsBfX8JG6tC",
        "outputId": "70e6d973-81b8-4fbf-cd13-9e27fb08327c"
      },
      "source": [
        "plsr = PLSRegression(n_components=9)\n",
        "plsr.fit(Xtrain_norm, ytrain)\n",
        "\n",
        "Xtrain_plsr = plsr.transform(Xtrain_norm)\n",
        "Xtest_plsr  = plsr.transform(Xtest_norm)\n",
        "\n",
        "acc,C = ClassifierKNN(Xtrain_plsr,ytrain,Xtest_plsr,ytest)\n",
        "print('PLSR Accuracy = '+str(acc*100)+'%')\n",
        "\n",
        "plt.figure(figsize=(5,4))\n",
        "sns.set(font_scale=1.4) # for label size\n",
        "sns.heatmap(C, annot=True, annot_kws={\"size\": 16}) # font size\n",
        "plt.title('Matriz de conf. PLSR (9) Testing')\n",
        "plt.show()"
      ],
      "execution_count": null,
      "outputs": [
        {
          "output_type": "stream",
          "text": [
            "Entrenando con 1260 muestras y probando con 140 muestras\n",
            "PLSR Accuracy = 92.85714285714286%\n"
          ],
          "name": "stdout"
        },
        {
          "output_type": "display_data",
          "data": {
            "image/png": "[encoded data removed]",
            "text/plain": [
              "<Figure size 360x288 with 2 Axes>"
            ]
          },
          "metadata": {
            "tags": []
          }
        }
      ]
    },
    {
      "cell_type": "markdown",
      "metadata": {
        "id": "y34qcX1-HagV"
      },
      "source": [
        "### Selección de características sobre las elegidas por SFS\n",
        "\n",
        "3) PCA 7 componentes\n"
      ]
    },
    {
      "cell_type": "code",
      "metadata": {
        "colab": {
          "base_uri": "https://localhost:8080/",
          "height": 327
        },
        "id": "F57XsBhdH5M9",
        "outputId": "ab299272-9d3f-47af-c0ed-5ecdce03a0a7"
      },
      "source": [
        "Xtrain_pca, _, A, Xm, _ = pca(Xtrain_sfs, n_components=7) \n",
        "Xtest_pca = np.matmul(Xtest_sfs - Xm, A) \n",
        "acc,C = ClassifierKNN(Xtrain_pca,ytrain,Xtest_pca,ytest)\n",
        "\n",
        "print('PCA Accuracy = '+str(acc*100)+'%')\n",
        "\n",
        "plt.figure(figsize=(5,4))\n",
        "sns.set(font_scale=1.4) # for label size\n",
        "sns.heatmap(C, annot=True, annot_kws={\"size\": 16}) # font size\n",
        "plt.title('Matriz de conf. PCA (7) Testing')\n",
        "plt.show()"
      ],
      "execution_count": null,
      "outputs": [
        {
          "output_type": "stream",
          "text": [
            "Entrenando con 1260 muestras y probando con 140 muestras\n",
            "PCA Accuracy = 88.57142857142857%\n"
          ],
          "name": "stdout"
        },
        {
          "output_type": "display_data",
          "data": {
            "image/png": "[encoded data removed]",
            "text/plain": [
              "<Figure size 360x288 with 2 Axes>"
            ]
          },
          "metadata": {
            "tags": []
          }
        }
      ]
    },
    {
      "cell_type": "markdown",
      "metadata": {
        "id": "M4IkKVwlICai"
      },
      "source": [
        "4) ICA 7 componentes"
      ]
    },
    {
      "cell_type": "code",
      "metadata": {
        "colab": {
          "base_uri": "https://localhost:8080/",
          "height": 327
        },
        "id": "QzSB2wZ7IXyB",
        "outputId": "6117d0af-5dd7-4e37-b173-6bb5fa2d5d66"
      },
      "source": [
        "ica = FastICA(n_components=7, random_state=0)\n",
        "ica.fit(Xtrain_sfs, ytrain) \n",
        "Xtrain_ica = ica.transform(Xtrain_sfs)\n",
        "Xtest_ica  = ica.transform(Xtest_sfs)\n",
        "\n",
        "acc,C = ClassifierKNN(Xtrain_ica, ytrain, Xtest_ica,ytest)\n",
        "print('ICA Accuracy = '+str(acc*100)+'%')\n",
        "\n",
        "plt.figure(figsize=(5,4))\n",
        "sns.set(font_scale=1.4) # for label size\n",
        "sns.heatmap(C, annot=True, annot_kws={\"size\": 16}) # font size\n",
        "plt.title('Matriz de conf. ICA (7) Testing')\n",
        "plt.show()"
      ],
      "execution_count": null,
      "outputs": [
        {
          "output_type": "stream",
          "text": [
            "Entrenando con 1260 muestras y probando con 140 muestras\n",
            "ICA Accuracy = 88.57142857142857%\n"
          ],
          "name": "stdout"
        },
        {
          "output_type": "display_data",
          "data": {
            "image/png": "[encoded data removed]",
            "text/plain": [
              "<Figure size 360x288 with 2 Axes>"
            ]
          },
          "metadata": {
            "tags": []
          }
        }
      ]
    },
    {
      "cell_type": "markdown",
      "metadata": {
        "id": "XVVJAXC_LA8q"
      },
      "source": [
        "### Concatenamos las mejores features extraídas (Pca, Ica y plsr)"
      ]
    },
    {
      "cell_type": "code",
      "metadata": {
        "colab": {
          "base_uri": "https://localhost:8080/",
          "height": 327
        },
        "id": "ynKo8aHwI8dG",
        "outputId": "b3e5fe6b-edd4-466c-ac7e-e939cd52f89d"
      },
      "source": [
        "Xtrain_con = np.concatenate((Xtrain_pca, Xtrain_ica, Xtrain_plsr),axis=1)\n",
        "Xtest_con  = np.concatenate((Xtest_pca ,Xtest_ica , Xtest_plsr),axis=1)\n",
        "\n",
        "acc,C = ClassifierKNN(Xtrain_con,ytrain,Xtest_con,ytest)\n",
        "print('Concatenación Accuracy = '+str(acc*100)+'%')\n",
        "\n",
        "plt.figure(figsize=(5,4))\n",
        "sns.set(font_scale=1.4) # for label size\n",
        "sns.heatmap(C, annot=True, annot_kws={\"size\": 16}) # font size\n",
        "plt.title('Matriz de conf. Concatenación Testing')\n",
        "plt.show()"
      ],
      "execution_count": null,
      "outputs": [
        {
          "output_type": "stream",
          "text": [
            "Entrenando con 1260 muestras y probando con 140 muestras\n",
            "Concatenación Accuracy = 93.57142857142857%\n"
          ],
          "name": "stdout"
        },
        {
          "output_type": "display_data",
          "data": {
            "image/png": "[encoded data removed]",
            "text/plain": [
              "<Figure size 360x288 with 2 Axes>"
            ]
          },
          "metadata": {
            "tags": []
          }
        }
      ]
    },
    {
      "cell_type": "markdown",
      "metadata": {
        "id": "bKcvKN7YLsiu"
      },
      "source": [
        "5) Efectuamos SFS 9 features (paso final)"
      ]
    },
    {
      "cell_type": "code",
      "metadata": {
        "colab": {
          "base_uri": "https://localhost:8080/",
          "height": 327
        },
        "id": "yEdP9gHPXlEC",
        "outputId": "d0640be8-135e-4529-ab7a-262938fcfdb5"
      },
      "source": [
        "sel = sfs(Xtrain_con, ytrain,9, show=False) \n",
        "Xtrain_fin = Xtrain_con[:,sel] \n",
        "Xtest_fin  = Xtest_con[:,sel] \n",
        "  \n",
        "acc, C = ClassifierKNN(Xtrain_fin,ytrain,Xtest_fin,ytest)\n",
        "print('Testing Accuracy = '+str(acc*100)+'%')\n",
        "\n",
        "plt.figure(figsize=(5,4))\n",
        "sns.set(font_scale=1.4) # for label size\n",
        "sns.heatmap(C, annot=True, annot_kws={\"size\": 16}) # font size\n",
        "plt.title('Matriz de confusión best features Testing')\n",
        "plt.show()"
      ],
      "execution_count": null,
      "outputs": [
        {
          "output_type": "stream",
          "text": [
            "Entrenando con 1260 muestras y probando con 140 muestras\n",
            "Testing Accuracy = 95.71428571428572%\n"
          ],
          "name": "stdout"
        },
        {
          "output_type": "display_data",
          "data": {
            "image/png": "[encoded data removed]",
            "text/plain": [
              "<Figure size 360x288 with 2 Axes>"
            ]
          },
          "metadata": {
            "tags": []
          }
        }
      ]
    }
  ]
}