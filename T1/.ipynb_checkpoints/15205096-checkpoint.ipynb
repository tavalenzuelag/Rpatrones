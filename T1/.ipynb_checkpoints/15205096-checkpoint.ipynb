{
 "cells": [
  {
   "cell_type": "code",
   "execution_count": 1,
   "metadata": {},
   "outputs": [],
   "source": [
    "import numpy as np\n",
    "import matplotlib.pyplot as plt\n",
    "from   scipy.ndimage.morphology import binary_fill_holes\n",
    "import seaborn as sns\n",
    "import cv2\n",
    "import pandas as pd\n",
    "from collections import defaultdict"
   ]
  },
  {
   "cell_type": "code",
   "execution_count": 2,
   "metadata": {},
   "outputs": [],
   "source": [
    "# Funciones para cargar una imagen\n",
    "\n",
    "def build_string(prefix, num_char, num_img):\n",
    "    \" Función que retorna nombre de imagen válido\"\n",
    "    n_char = str(num_char).zfill(2)\n",
    "    n_img = str(num_img).zfill(3)\n",
    "    return prefix + '_' + n_char + '_' + n_img + '.png'\n",
    "\n",
    "def load_image(num_char, num_img, prefix='letras/char'):\n",
    "    string = build_string(prefix, num_char, num_img)\n",
    "    img = plt.imread(string)\n",
    "    return img"
   ]
  },
  {
   "cell_type": "code",
   "execution_count": 3,
   "metadata": {},
   "outputs": [
    {
     "data": {
      "text/plain": [
       "<matplotlib.image.AxesImage at 0x7f9b2ca04d60>"
      ]
     },
     "execution_count": 3,
     "metadata": {},
     "output_type": "execute_result"
    },
    {
     "data": {
      "image/png": "[encoded data removed]",
      "text/plain": [
       "<Figure size 432x288 with 1 Axes>"
      ]
     },
     "metadata": {
      "needs_background": "light"
     },
     "output_type": "display_data"
    }
   ],
   "source": [
    "# Mostramos una imagen cualquiera\n",
    "img = load_image(4, 3)\n",
    "plt.imshow(img, cmap='gray')"
   ]
  },
  {
   "cell_type": "markdown",
   "metadata": {},
   "source": [
    "# Obtenemos conjuntos de entrenamiento y test"
   ]
  },
  {
   "cell_type": "code",
   "execution_count": 4,
   "metadata": {},
   "outputs": [],
   "source": [
    "X_train = []\n",
    "X_test = []\n",
    "y_train = []\n",
    "y_test = []\n",
    "\n",
    "n_clases = 5\n",
    "n_imagenes = 100  # es el número de imágenes por clase\n",
    "\n",
    "# Primeras 75 imágenes de clada clase van al set de entrenamiento\n",
    "# Las restantes 25 de cada clase van al set de test\n",
    "\n",
    "for n_clase in range(n_clases):\n",
    "    for n_imagen in range(n_imagenes):\n",
    "        if n_imagen + 1 <= 75:\n",
    "            X_train.append(load_image(n_clase + 1, n_imagen + 1))\n",
    "            y_train.append(n_clase + 1)\n",
    "        \n",
    "        else:\n",
    "            X_test.append(load_image(n_clase + 1, n_imagen + 1))\n",
    "            y_test.append(n_clase + 1)"
   ]
  },
  {
   "cell_type": "markdown",
   "metadata": {},
   "source": [
    "# Extracción de características"
   ]
  },
  {
   "cell_type": "markdown",
   "metadata": {},
   "source": [
    "## Segmentación\n",
    "\n",
    "En esta sección se crean funciones que permiten segmentar una imagen en 9 cuadrados congruentes de lado 37 pixeles. Considerando que las imagenes por defecto pueden poseer distinto tamaño, antes de realizar la segmentación esta es escalada a un tamaño de 111x111 pixeles."
   ]
  },
  {
   "cell_type": "code",
   "execution_count": 5,
   "metadata": {},
   "outputs": [],
   "source": [
    "size_cuadro = 37\n",
    "area_patterns_train = defaultdict(list)\n",
    "area_patterns_test = defaultdict(list)\n",
    "\n",
    "def get_segmented_image(image):\n",
    "    \" Retorna imagen segmentada en 9 cuadrados congruentes\"\n",
    "    cuadros = {}\n",
    "    for i in range(3):\n",
    "        for j in range(3):\n",
    "            cuadros[i, j] = image[size_cuadro  * i: size_cuadro  * (i + 1), size_cuadro  * j: size_cuadro  * (j + 1)]\n",
    "    \n",
    "    return cuadros"
   ]
  },
  {
   "cell_type": "code",
   "execution_count": 6,
   "metadata": {},
   "outputs": [
    {
     "data": {
      "image/png": "[encoded data removed]",
      "text/plain": [
       "<Figure size 288x288 with 9 Axes>"
      ]
     },
     "metadata": {},
     "output_type": "display_data"
    }
   ],
   "source": [
    "# Mostramos una imagen segmentada\n",
    "\n",
    "image = X_train[1]\n",
    "resized = cv2.resize(image, (111,111), interpolation = cv2.INTER_AREA).astype(int)\n",
    "cuadros = get_segmented_image(resized)\n",
    "\n",
    "fig, axs = plt.subplots(3, 3,figsize=(4,4))\n",
    "\n",
    "for i in range(3):\n",
    "    for j in range(3):\n",
    "        axs[i, j].imshow(cuadros[i, j], cmap='gray')\n",
    "        axs[i, j].axis('off')\n",
    "\n",
    "fig.tight_layout()\n",
    "fig.patch.set_facecolor('xkcd:gray')"
   ]
  },
  {
   "cell_type": "markdown",
   "metadata": {},
   "source": [
    "## Areas segmentadas\n",
    "\n",
    "En esta sección se muestra las funciones que permiten obtener nueve patrones (Uno por cada cuadrícula de la imagen segmentada) correspondiente a la proporción de pixeles de la letra ubicada en un cuadro específico de la imagen respecto del área total de pixeles de la letra. Adicionalmente, la segunda función nos permitirá sumar dos de estos valores puntuales por letra."
   ]
  },
  {
   "cell_type": "code",
   "execution_count": 7,
   "metadata": {},
   "outputs": [],
   "source": [
    "def get_local_area_patterns(area_image, segmented_image):\n",
    "    \"Retorna área proporcional de la letra en cada cuadrado respecto al área total de la letra en pixeles \"\n",
    "    local_area_patterns = {}\n",
    "    \n",
    "    for i in range(3):\n",
    "        for j in range(3):\n",
    "            cuadro = segmented_image[i, j]\n",
    "            local_area_patterns[(i, j)] = np.count_nonzero(cuadro == 1) / area_image\n",
    "    \n",
    "    return local_area_patterns\n",
    "\n",
    "\n",
    "def get_sum_area_patterns(local_area_patterns, i1, j1, i2, j2):\n",
    "    \"Retorna la suma de áreas proporcionales de dos cuadrados de la imagen de una letra\"\n",
    "    \n",
    "    return local_area_patterns[i1, j1] + local_area_patterns[i2, j2]"
   ]
  },
  {
   "cell_type": "markdown",
   "metadata": {},
   "source": [
    "# Verificación patrones relevantes\n",
    "\n",
    "En esta sección se muestra que los patrones relevantes para la clasificación de las letras son los correspondientes a:\n",
    " - Suma proporcional de áreas en los extremos inferiores de la figura.\n",
    " - Suma proporcional de áreas en los extremos superiores de la figura.\n",
    " - Suma proporcional de áreas en los extremos centrales de la figura (En la misma fila).\n",
    " - Área proporcional en el cuadro central de la figura."
   ]
  },
  {
   "cell_type": "code",
   "execution_count": 8,
   "metadata": {},
   "outputs": [],
   "source": [
    "center_area = defaultdict(list)  # Guarda patrón área proporcional central para X_train\n",
    "sum_areas = defaultdict(lambda: defaultdict(list))  # Guarda patrón sumas área proporcional elegidas para X_train\n",
    "\n",
    "for index in range(len(X_train)):\n",
    "    image = cv2.resize(X_train[index], (111,111), interpolation = cv2.INTER_AREA).astype(int)\n",
    "    area_image = np.count_nonzero(image == 1)\n",
    "    label = y_train[index]\n",
    "    \n",
    "    # Segmentación\n",
    "    segmented_image = get_segmented_image(image)\n",
    "    \n",
    "    # Obtención de patrones\n",
    "    local_area_patterns = get_local_area_patterns(area_image, segmented_image)\n",
    "    center_area[label].append(local_area_patterns[1,1])\n",
    "    sum_areas[0, 0, 0, 2][label].append(get_sum_area_patterns(local_area_patterns, 0, 0, 0, 2))\n",
    "    sum_areas[2, 0, 2, 2][label].append(get_sum_area_patterns(local_area_patterns, 2, 0, 2, 2))\n",
    "    sum_areas[1, 0, 1, 2][label].append(get_sum_area_patterns(local_area_patterns, 1, 0, 1, 2))"
   ]
  },
  {
   "cell_type": "markdown",
   "metadata": {},
   "source": [
    "### Separador para letra \"Y\":   Patrón suma de áreas proporcionales cuadro inferior izquierdo y derecho"
   ]
  },
  {
   "cell_type": "code",
   "execution_count": 9,
   "metadata": {},
   "outputs": [
    {
     "data": {
      "image/png": "[encoded data removed]",
      "text/plain": [
       "<Figure size 432x432 with 1 Axes>"
      ]
     },
     "metadata": {
      "needs_background": "light"
     },
     "output_type": "display_data"
    }
   ],
   "source": [
    "x1 = sum_areas[2, 0, 2, 2][1]\n",
    "x2 = sum_areas[2, 0, 2, 2][2]\n",
    "x3 = sum_areas[2, 0, 2, 2][3]\n",
    "x4 = sum_areas[2, 0, 2, 2][4]\n",
    "x5 = sum_areas[2, 0, 2, 2][5]\n",
    "\n",
    "colors = ['#E69F00', '#56B4E9', '#F0E442', '#009E73', '#D55E00']\n",
    "names = ['X', 'Y', 'Z', 'A', 'B']\n",
    "plt.figure(figsize=(6,6))\n",
    "plt.hist([x1, x2, x3, x4, x5], bins = 30, color = colors, edgecolor='black', stacked=True, label=names)\n",
    "plt.legend()\n",
    "plt.xlabel('Suma áreas')\n",
    "plt.ylabel('Frecuencia')\n",
    "plt.ylim(0,75)\n",
    "plt.title('Patrón suma proporcional de áreas extremos inferior letra')\n",
    "plt.show()"
   ]
  },
  {
   "cell_type": "markdown",
   "metadata": {},
   "source": [
    "### Separador para letra \"A\": Patrón suma de áreas proporcionales cuadro superior izquierdo y derecho"
   ]
  },
  {
   "cell_type": "code",
   "execution_count": 10,
   "metadata": {},
   "outputs": [
    {
     "data": {
      "image/png": "[encoded data removed]",
      "text/plain": [
       "<Figure size 432x432 with 1 Axes>"
      ]
     },
     "metadata": {
      "needs_background": "light"
     },
     "output_type": "display_data"
    }
   ],
   "source": [
    "x1 = sum_areas[0, 0, 0, 2][1]\n",
    "x3 = sum_areas[0, 0, 0, 2][3]\n",
    "x4 = sum_areas[0, 0, 0, 2][4]\n",
    "x5 = sum_areas[0, 0, 0, 2][5]\n",
    "\n",
    "colors = ['#E69F00', '#F0E442', '#009E73', '#D55E00']\n",
    "names = ['X', 'Z', 'A', 'B']\n",
    "plt.figure(figsize=(6,6))\n",
    "plt.hist([x1, x3, x4, x5], bins = 30, color = colors, edgecolor='black', stacked=True, label=names)\n",
    "plt.legend()\n",
    "plt.xlabel('Suma áreas')\n",
    "plt.ylabel('Frecuencia')\n",
    "plt.title('Patrón suma proporcional de áreas extremos superior letra')\n",
    "plt.ylim(0, 75)\n",
    "plt.show()"
   ]
  },
  {
   "cell_type": "markdown",
   "metadata": {},
   "source": [
    "### Separador para letra \"B\": Patrón suma de áreas proporcionales cuadro central izquierdo y derecho"
   ]
  },
  {
   "cell_type": "code",
   "execution_count": 11,
   "metadata": {},
   "outputs": [
    {
     "data": {
      "image/png": "[encoded data removed]",
      "text/plain": [
       "<Figure size 432x432 with 1 Axes>"
      ]
     },
     "metadata": {
      "needs_background": "light"
     },
     "output_type": "display_data"
    }
   ],
   "source": [
    "x1 = sum_areas[1, 0, 1, 2][1]\n",
    "x3 = sum_areas[1, 0, 1, 2][3]\n",
    "x5 = sum_areas[1, 0, 1, 2][5]\n",
    "\n",
    "colors = ['#E69F00', '#F0E442', '#D55E00']\n",
    "names = ['X', 'Z', 'B']\n",
    "plt.figure(figsize=(6,6))\n",
    "plt.hist([x1, x3, x5], bins = 30, color = colors, edgecolor='black', stacked=True, label=names)\n",
    "plt.legend()\n",
    "plt.xlabel('Suma áreas')\n",
    "plt.ylabel('Frecuencia')\n",
    "plt.ylim(0,90)\n",
    "plt.title('Patrón suma proporcional de áreas extremos centrales letra')\n",
    "plt.show()"
   ]
  },
  {
   "cell_type": "markdown",
   "metadata": {},
   "source": [
    "### Separador para letra \"X\": Patrón área proporcional cuadro central de la letra."
   ]
  },
  {
   "cell_type": "code",
   "execution_count": 12,
   "metadata": {},
   "outputs": [
    {
     "data": {
      "image/png": "[encoded data removed]",
      "text/plain": [
       "<Figure size 432x432 with 1 Axes>"
      ]
     },
     "metadata": {
      "needs_background": "light"
     },
     "output_type": "display_data"
    }
   ],
   "source": [
    "x1 = center_area[1]\n",
    "x3 = center_area[3]\n",
    "\n",
    "colors = ['#E69F00', '#F0E442']\n",
    "names = ['X', 'Z']\n",
    "plt.figure(figsize=(6,6))\n",
    "plt.hist([x1, x3], bins = 30, color = colors, edgecolor='black', stacked=True, label=names)\n",
    "plt.legend()\n",
    "plt.xlabel('Suma áreas')\n",
    "plt.ylabel('Frecuencia')\n",
    "plt.title('Patrón área proporcional central de la letra')\n",
    "plt.show()"
   ]
  },
  {
   "cell_type": "markdown",
   "metadata": {},
   "source": [
    "## Definición límites separadores por patrón: (Se escoge punto medio entre los puntos más cercanos de cada clase no intersectada)."
   ]
  },
  {
   "cell_type": "code",
   "execution_count": 13,
   "metadata": {},
   "outputs": [],
   "source": [
    "lim_y = (max(sum_areas[2, 0, 2, 2][2]) + min(sum_areas[2, 0, 2, 2][5]))/2   # Separador \"Y\"\n",
    "lim_a = (max(sum_areas[0, 0, 0, 2][4]) + min(sum_areas[0, 0, 0, 2][5]))/2   # Separador \"A\"\n",
    "lim_b = (max(sum_areas[1, 0, 1, 2][3]) + min(sum_areas[1, 0, 1, 2][5]))/2 # Separador \"B\"\n",
    "lim_x = (sorted(center_area[1])[3] + sorted(center_area[3])[-2])/2         # Separador \"X\""
   ]
  },
  {
   "cell_type": "markdown",
   "metadata": {},
   "source": [
    "# Funciones de predicción para reconocer clase de imagen (árbol de decisión)"
   ]
  },
  {
   "cell_type": "code",
   "execution_count": 14,
   "metadata": {},
   "outputs": [],
   "source": [
    "def letter_checker(local_area_patterns):\n",
    "    # Primero Verificamos si es letra y\n",
    "    suma_ext_inferior = get_sum_area_patterns(local_area_patterns, 2, 0, 2, 2)\n",
    "    \n",
    "    if suma_ext_inferior < lim_y:\n",
    "        return 2\n",
    "    \n",
    "    return checker_for_a(local_area_patterns)\n",
    "    \n",
    "    \n",
    "def checker_for_a(local_area_patterns):\n",
    "    suma_ext_superior = get_sum_area_patterns(local_area_patterns, 0, 0, 0, 2)\n",
    "    \n",
    "    if suma_ext_superior < lim_a:\n",
    "        return 4\n",
    "    \n",
    "    return checker_for_b(local_area_patterns)\n",
    "    \n",
    "\n",
    "def checker_for_b(local_area_patterns):\n",
    "    suma_ext_central= get_sum_area_patterns(local_area_patterns, 1, 0, 1, 2)\n",
    "    \n",
    "    if suma_ext_central > lim_b:\n",
    "        return 5\n",
    "    \n",
    "    return checker_for_x(local_area_patterns)\n",
    "\n",
    "\n",
    "def checker_for_x(local_area_patterns):\n",
    "    center_area = local_area_patterns[1,1]\n",
    "    \n",
    "    if center_area > lim_x:\n",
    "        return 1\n",
    "    \n",
    "    return 3"
   ]
  },
  {
   "cell_type": "code",
   "execution_count": 15,
   "metadata": {},
   "outputs": [],
   "source": [
    "def Reconocedor(image):\n",
    "    \"Función pedida por enunciado, obtiene la clase de una imagen\"\n",
    "    image = cv2.resize(image, (111,111), interpolation = cv2.INTER_AREA).astype(int)\n",
    "    area_image = np.count_nonzero(image == 1)\n",
    "\n",
    "    # Segmentación y obtención de patrones de área por cuadro\n",
    "    segmented_image = get_segmented_image(image)\n",
    "    local_area_patterns = get_local_area_patterns(area_image, segmented_image)\n",
    "    \n",
    "    # Reconocemos letra\n",
    "    return letter_checker(local_area_patterns)"
   ]
  },
  {
   "cell_type": "markdown",
   "metadata": {},
   "source": [
    "# Verificamos Accuracy para Test de Train y Test"
   ]
  },
  {
   "cell_type": "code",
   "execution_count": 16,
   "metadata": {},
   "outputs": [],
   "source": [
    "def predict(X):\n",
    "    \"Función que efectua predicción a partir de una lista de imagenes\"\n",
    "    y_pred = []\n",
    "    for image in X:\n",
    "        y_pred.append(Reconocedor(image))\n",
    "    \n",
    "    return y_pred\n",
    "\n",
    "\n",
    "def accuracy(y, y_pred):\n",
    "    \"Función que retorna la precisión de un modelo\"\n",
    "    aciertos = 0\n",
    "    for index in range(len(y)):\n",
    "        if y[index] == y_pred[index]:\n",
    "            aciertos +=1\n",
    "            \n",
    "    return (aciertos/len(y)) * 100\n",
    "\n",
    "\n",
    "def conf_matrix(y, y_pred, n_clases = 5):\n",
    "    \" Función que retorna lamatriz de confusión\"\n",
    "    matriz = np.zeros((n_clases, n_clases)).astype(int)\n",
    "    for index in range(len(y)):\n",
    "        i = y[index]\n",
    "        j = y_pred[index]\n",
    "        matriz[i-1, j-1] +=1\n",
    "    return matriz"
   ]
  },
  {
   "cell_type": "code",
   "execution_count": 17,
   "metadata": {},
   "outputs": [],
   "source": [
    "y_pred_train = predict(X_train)\n",
    "y_pred_test = predict(X_test)"
   ]
  },
  {
   "cell_type": "code",
   "execution_count": 18,
   "metadata": {},
   "outputs": [
    {
     "name": "stdout",
     "output_type": "stream",
     "text": [
      "Accuracy Set de entrenamiento: 98.93333333333332\n",
      "Accuracy Set de Test: 93.60000000000001\n"
     ]
    }
   ],
   "source": [
    "print(f'Accuracy Set de entrenamiento: {accuracy(y_train, y_pred_train)}')\n",
    "print(f'Accuracy Set de Test: {accuracy(y_test, y_pred_test)}')"
   ]
  },
  {
   "cell_type": "markdown",
   "metadata": {},
   "source": [
    "### Mostramos matriz de confusión para set de entrenamiento y test respectivamente"
   ]
  },
  {
   "cell_type": "code",
   "execution_count": 19,
   "metadata": {},
   "outputs": [
    {
     "data": {
      "text/plain": [
       "array([[72,  0,  3,  0,  0],\n",
       "       [ 0, 75,  0,  0,  0],\n",
       "       [ 1,  0, 74,  0,  0],\n",
       "       [ 0,  0,  0, 75,  0],\n",
       "       [ 0,  0,  0,  0, 75]])"
      ]
     },
     "execution_count": 19,
     "metadata": {},
     "output_type": "execute_result"
    }
   ],
   "source": [
    "conf_matrix(y_train, y_pred_train)"
   ]
  },
  {
   "cell_type": "code",
   "execution_count": 20,
   "metadata": {},
   "outputs": [
    {
     "data": {
      "image/png": "[encoded data removed]",
      "text/plain": [
       "<Figure size 432x360 with 2 Axes>"
      ]
     },
     "metadata": {
      "needs_background": "light"
     },
     "output_type": "display_data"
    }
   ],
   "source": [
    "df_cm = pd.DataFrame(conf_matrix(y_train, y_pred_train), [x + 1 for x in range(5)], [x + 1 for x in range(5)])\n",
    "\n",
    "plt.figure(figsize=(6,5))\n",
    "sns.set(font_scale=1.4) # for label size\n",
    "sns.heatmap(df_cm, annot=True, annot_kws={\"size\": 16}) # font size\n",
    "plt.title('Matriz de confusión set de entrenamiento')\n",
    "plt.show()"
   ]
  },
  {
   "cell_type": "code",
   "execution_count": 21,
   "metadata": {},
   "outputs": [
    {
     "data": {
      "text/plain": [
       "array([[25,  0,  0,  0,  0],\n",
       "       [ 3, 22,  0,  0,  0],\n",
       "       [ 0,  0, 25,  0,  0],\n",
       "       [ 0,  0,  0, 20,  5],\n",
       "       [ 0,  0,  0,  0, 25]])"
      ]
     },
     "execution_count": 21,
     "metadata": {},
     "output_type": "execute_result"
    }
   ],
   "source": [
    "conf_matrix(y_test, y_pred_test)"
   ]
  },
  {
   "cell_type": "code",
   "execution_count": 22,
   "metadata": {},
   "outputs": [
    {
     "data": {
      "image/png": "[encoded data removed]",
      "text/plain": [
       "<Figure size 432x360 with 2 Axes>"
      ]
     },
     "metadata": {},
     "output_type": "display_data"
    }
   ],
   "source": [
    "df_cm = pd.DataFrame(conf_matrix(y_test, y_pred_test), [x + 1 for x in range(5)], [x + 1 for x in range(5)])\n",
    "\n",
    "plt.figure(figsize=(6,5))\n",
    "sns.set(font_scale=1.4) # for label size\n",
    "sns.heatmap(df_cm, annot=True, annot_kws={\"size\": 16}) # font size\n",
    "plt.title('Matriz de confusión set de Test')\n",
    "plt.show()"
   ]
  },
  {
   "cell_type": "code",
   "execution_count": null,
   "metadata": {},
   "outputs": [],
   "source": []
  }
 ],
 "metadata": {
  "kernelspec": {
   "display_name": "Python 3",
   "language": "python",
   "name": "python3"
  },
  "language_info": {
   "codemirror_mode": {
    "name": "ipython",
    "version": 3
   },
   "file_extension": ".py",
   "mimetype": "text/x-python",
   "name": "python",
   "nbconvert_exporter": "python",
   "pygments_lexer": "ipython3",
   "version": "3.8.5"
  }
 },
 "nbformat": 4,
 "nbformat_minor": 4
}
